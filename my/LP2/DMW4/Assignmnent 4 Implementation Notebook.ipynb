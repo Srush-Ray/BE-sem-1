{
 "cells": [
  {
   "cell_type": "code",
   "execution_count": 1,
   "metadata": {},
   "outputs": [],
   "source": [
    "import nltk\n",
    "from nltk.corpus import stopwords\n",
    "from nltk.tokenize import word_tokenize\n",
    "from nltk.stem import PorterStemmer\n",
    "import os\n",
    "from sklearn.feature_extraction.text import CountVectorizer\n",
    "from sklearn.feature_extraction.text import TfidfVectorizer\n",
    "from sklearn.model_selection import train_test_split\n",
    "from sklearn.naive_bayes import MultinomialNB\n",
    "from sklearn.metrics import precision_score, recall_score, f1_score\n",
    "import pandas as pd\n",
    "import numpy as np"
   ]
  },
  {
   "cell_type": "code",
   "execution_count": 3,
   "metadata": {},
   "outputs": [
    {
     "data": {
      "text/html": [
       "<div>\n",
       "<style scoped>\n",
       "    .dataframe tbody tr th:only-of-type {\n",
       "        vertical-align: middle;\n",
       "    }\n",
       "\n",
       "    .dataframe tbody tr th {\n",
       "        vertical-align: top;\n",
       "    }\n",
       "\n",
       "    .dataframe thead th {\n",
       "        text-align: right;\n",
       "    }\n",
       "</style>\n",
       "<table border=\"1\" class=\"dataframe\">\n",
       "  <thead>\n",
       "    <tr style=\"text-align: right;\">\n",
       "      <th></th>\n",
       "      <th>category</th>\n",
       "      <th>text</th>\n",
       "    </tr>\n",
       "  </thead>\n",
       "  <tbody>\n",
       "    <tr>\n",
       "      <th>0</th>\n",
       "      <td>tech</td>\n",
       "      <td>tv future in the hands of viewers with home th...</td>\n",
       "    </tr>\n",
       "    <tr>\n",
       "      <th>1</th>\n",
       "      <td>business</td>\n",
       "      <td>worldcom boss  left books alone  former worldc...</td>\n",
       "    </tr>\n",
       "    <tr>\n",
       "      <th>2</th>\n",
       "      <td>sport</td>\n",
       "      <td>tigers wary of farrell  gamble  leicester say ...</td>\n",
       "    </tr>\n",
       "    <tr>\n",
       "      <th>3</th>\n",
       "      <td>sport</td>\n",
       "      <td>yeading face newcastle in fa cup premiership s...</td>\n",
       "    </tr>\n",
       "    <tr>\n",
       "      <th>4</th>\n",
       "      <td>entertainment</td>\n",
       "      <td>ocean s twelve raids box office ocean s twelve...</td>\n",
       "    </tr>\n",
       "  </tbody>\n",
       "</table>\n",
       "</div>"
      ],
      "text/plain": [
       "        category                                               text\n",
       "0           tech  tv future in the hands of viewers with home th...\n",
       "1       business  worldcom boss  left books alone  former worldc...\n",
       "2          sport  tigers wary of farrell  gamble  leicester say ...\n",
       "3          sport  yeading face newcastle in fa cup premiership s...\n",
       "4  entertainment  ocean s twelve raids box office ocean s twelve..."
      ]
     },
     "execution_count": 3,
     "metadata": {},
     "output_type": "execute_result"
    }
   ],
   "source": [
    "data = pd.read_csv(\"bbc-text.csv\")\n",
    "data.head()"
   ]
  },
  {
   "cell_type": "code",
   "execution_count": 4,
   "metadata": {},
   "outputs": [],
   "source": [
    "data['category'] = data['category'].map({'tech' : 1, 'business' : 2, 'sport' : 3, 'entertainment' : 4, 'politics' : 5})\n",
    "x = data['text']\n",
    "y = data['category']"
   ]
  },
  {
   "cell_type": "code",
   "execution_count": 5,
   "metadata": {},
   "outputs": [
    {
     "name": "stdout",
     "output_type": "stream",
     "text": [
      "  (0, 15474)\t0.042853414666450595\n",
      "  (0, 9771)\t0.05394635995774377\n",
      "  (0, 11969)\t0.03475871711548711\n",
      "  (0, 18841)\t0.04246300218475551\n",
      "  (0, 15189)\t0.03137005689346233\n",
      "  (0, 16946)\t0.03520753765636791\n",
      "  (0, 24964)\t0.03691652953910892\n",
      "  (0, 18744)\t0.03884627662431265\n",
      "  (0, 23104)\t0.06127839797554823\n",
      "  (0, 4315)\t0.02334494124686601\n",
      "  (0, 16834)\t0.04463898003860847\n",
      "  (0, 21473)\t0.03329980397866606\n",
      "  (0, 13090)\t0.046300482947661085\n",
      "  (0, 17720)\t0.03127535911865188\n",
      "  (0, 2125)\t0.02728249738463679\n",
      "  (0, 10042)\t0.04515540880311827\n",
      "  (0, 4907)\t0.022903112291034897\n",
      "  (0, 14974)\t0.03342197228421004\n",
      "  (0, 1165)\t0.03672824159120344\n",
      "  (0, 19446)\t0.05394635995774377\n",
      "  (0, 9876)\t0.04694097417527615\n",
      "  (0, 19159)\t0.04694097417527615\n",
      "  (0, 12229)\t0.04694097417527615\n",
      "  (0, 18747)\t0.04246300218475551\n",
      "  (0, 11493)\t0.06543093289043642\n",
      "  :\t:\n",
      "  (1556, 6290)\t0.10227140171511274\n",
      "  (1556, 15639)\t0.03893599890800166\n",
      "  (1556, 18611)\t0.061219196520664446\n",
      "  (1556, 3951)\t0.05627349477905416\n",
      "  (1556, 24140)\t0.0346627761851796\n",
      "  (1556, 17407)\t0.04042535892480101\n",
      "  (1556, 23916)\t0.04475332860366485\n",
      "  (1556, 20094)\t0.0983686932101894\n",
      "  (1556, 9296)\t0.042031512525548986\n",
      "  (1556, 16362)\t0.13064670144263832\n",
      "  (1556, 6697)\t0.03825439135441232\n",
      "  (1556, 18104)\t0.05390525711923415\n",
      "  (1556, 8697)\t0.04936482858129907\n",
      "  (1556, 15203)\t0.054901533178901396\n",
      "  (1556, 19945)\t0.028420750724846025\n",
      "  (1556, 12565)\t0.0422135696564713\n",
      "  (1556, 15296)\t0.03437001970042754\n",
      "  (1556, 14751)\t0.041675352877462706\n",
      "  (1556, 18280)\t0.053208061574604185\n",
      "  (1556, 8610)\t0.039148136452021316\n",
      "  (1556, 4213)\t0.037115965561544575\n",
      "  (1556, 20526)\t0.038522481296219935\n",
      "  (1556, 5483)\t0.03818827953224387\n",
      "  (1556, 11817)\t0.04986962894897694\n",
      "  (1556, 15782)\t0.044513032617959046\n"
     ]
    }
   ],
   "source": [
    "vectorizer = TfidfVectorizer(stop_words = 'english')\n",
    "x_train, x_test, y_train, y_test = train_test_split(x,y,test_size = 0.3, shuffle = False)\n",
    "x_train_vec = vectorizer.fit_transform(x_train)\n",
    "print(x_train_vec)"
   ]
  },
  {
   "cell_type": "code",
   "execution_count": 6,
   "metadata": {},
   "outputs": [
    {
     "data": {
      "text/plain": [
       "MultinomialNB(alpha=1.0, class_prior=None, fit_prior=True)"
      ]
     },
     "execution_count": 6,
     "metadata": {},
     "output_type": "execute_result"
    }
   ],
   "source": [
    "x_test_vec = vectorizer.transform(x_test)\n",
    "nb = MultinomialNB()\n",
    "nb.fit(x_train_vec, y_train)"
   ]
  },
  {
   "cell_type": "code",
   "execution_count": 7,
   "metadata": {},
   "outputs": [
    {
     "data": {
      "text/plain": [
       "0.968562874251497"
      ]
     },
     "execution_count": 7,
     "metadata": {},
     "output_type": "execute_result"
    }
   ],
   "source": [
    "nb.score(x_test_vec, y_test)"
   ]
  },
  {
   "cell_type": "code",
   "execution_count": 8,
   "metadata": {},
   "outputs": [],
   "source": [
    "prediction = nb.predict(x_test_vec)"
   ]
  },
  {
   "cell_type": "code",
   "execution_count": 9,
   "metadata": {},
   "outputs": [
    {
     "name": "stdout",
     "output_type": "stream",
     "text": [
      "(668,)\n",
      "(668,)\n"
     ]
    }
   ],
   "source": [
    "print(prediction.shape)\n",
    "print(y_test.shape)"
   ]
  },
  {
   "cell_type": "code",
   "execution_count": 10,
   "metadata": {},
   "outputs": [
    {
     "data": {
      "text/plain": [
       "array([3, 3, 4, 2, 1, 4, 2, 1, 3, 1, 4, 4, 5, 5, 3, 2, 2, 1, 4, 3, 5, 2,\n",
       "       1, 4, 5, 3, 4, 5, 5, 1, 3, 5, 2, 5, 4, 1, 3, 5, 4, 4, 2, 3, 1, 1,\n",
       "       3, 4, 1, 5, 1, 3, 5, 5, 3, 4, 3, 5, 3, 1, 4, 3, 4, 2, 2, 4, 4, 4,\n",
       "       1, 3, 2, 2, 5, 5, 2, 5, 4, 3, 3, 1, 5, 3, 2, 3, 2, 1, 3, 3, 2, 4,\n",
       "       3, 3, 1, 3, 2, 5, 2, 4, 1, 4, 5, 2, 4, 5, 4, 5, 5, 2, 3, 3, 3, 1,\n",
       "       1, 3, 5, 4, 1, 3, 4, 2, 4, 5, 2, 3, 1, 2, 3, 5, 2, 4, 4, 4, 5, 4,\n",
       "       5, 4, 3, 4, 3, 5, 5, 2, 5, 1, 3, 1, 3, 2, 5, 1, 4, 4, 5, 4, 5, 3,\n",
       "       3, 5, 2, 1, 3, 5, 5, 4, 3, 5, 5, 2, 1, 1, 2, 1, 3, 3, 2, 5, 2, 1,\n",
       "       3, 1, 5, 4, 3, 2, 3, 4, 1, 1, 3, 5, 3, 2, 3, 2, 3, 3, 4, 4, 2, 1,\n",
       "       1, 2, 1, 2, 2, 3, 3, 5, 3, 1, 3, 1, 3, 3, 2, 2, 1, 3, 2, 1, 1, 5,\n",
       "       3, 2, 4, 4, 1, 5, 3, 3, 1, 2, 1, 4, 4, 5, 5, 2, 4, 3, 4, 4, 2, 3,\n",
       "       5, 1, 2, 3, 4, 1, 5, 5, 3, 3, 2, 2, 2, 2, 2, 4, 2, 5, 5, 1, 1, 4,\n",
       "       5, 4, 2, 5, 3, 3, 2, 1, 2, 1, 3, 2, 2, 5, 3, 3, 5, 5, 4, 4, 5, 2,\n",
       "       5, 5, 2, 1, 5, 5, 5, 5, 5, 4, 4, 1, 5, 3, 5, 3, 1, 3, 3, 3, 4, 1,\n",
       "       4, 1, 3, 1, 3, 3, 4, 4, 2, 4, 4, 5, 2, 3, 1, 1, 5, 2, 3, 2, 4, 3,\n",
       "       5, 4, 3, 3, 2, 5, 1, 1, 2, 2, 3, 5, 4, 3, 3, 5, 4, 1, 3, 4, 2, 5,\n",
       "       3, 5, 1, 4, 3, 5, 2, 4, 5, 4, 5, 3, 5, 2, 2, 5, 2, 1, 3, 2, 4, 2,\n",
       "       3, 3, 4, 1, 5, 1, 5, 5, 3, 3, 3, 2, 1, 4, 2, 3, 2, 3, 2, 1, 2, 2,\n",
       "       2, 2, 3, 3, 3, 2, 2, 4, 2, 2, 2, 3, 3, 3, 1, 2, 3, 3, 3, 2, 4, 1,\n",
       "       1, 1, 5, 2, 2, 1, 2, 1, 3, 3, 5, 5, 5, 3, 3, 5, 5, 1, 2, 3, 3, 3,\n",
       "       3, 2, 3, 2, 2, 2, 2, 3, 5, 3, 1, 1, 3, 1, 2, 4, 2, 3, 2, 1, 1, 5,\n",
       "       4, 2, 4, 2, 1, 5, 4, 5, 4, 4, 1, 2, 1, 1, 2, 5, 3, 4, 2, 5, 4, 2,\n",
       "       1, 3, 1, 5, 3, 5, 2, 5, 5, 2, 2, 2, 1, 5, 2, 5, 2, 4, 5, 3, 5, 5,\n",
       "       3, 4, 1, 1, 2, 1, 3, 2, 2, 5, 3, 1, 1, 1, 3, 4, 3, 5, 2, 5, 5, 4,\n",
       "       1, 2, 1, 3, 4, 4, 3, 2, 4, 1, 1, 3, 4, 2, 5, 5, 5, 1, 1, 2, 5, 2,\n",
       "       5, 5, 4, 3, 1, 2, 1, 4, 1, 1, 3, 5, 3, 3, 5, 4, 4, 2, 5, 5, 3, 2,\n",
       "       2, 1, 2, 1, 1, 3, 2, 5, 3, 2, 2, 3, 1, 3, 1, 4, 3, 3, 4, 2, 1, 3,\n",
       "       3, 5, 1, 2, 5, 3, 3, 5, 4, 1, 1, 1, 2, 3, 4, 4, 1, 2, 5, 1, 3, 3,\n",
       "       1, 1, 5, 2, 3, 4, 4, 3, 4, 1, 1, 2, 2, 2, 3, 3, 1, 3, 2, 1, 2, 2,\n",
       "       3, 2, 5, 2, 2, 1, 2, 1, 5, 1, 4, 5, 1, 4, 3, 5, 4, 2, 1, 2, 1, 4,\n",
       "       1, 3, 2, 2, 5, 4, 5, 3])"
      ]
     },
     "execution_count": 10,
     "metadata": {},
     "output_type": "execute_result"
    }
   ],
   "source": [
    "np.array(y_test)"
   ]
  },
  {
   "cell_type": "code",
   "execution_count": 11,
   "metadata": {},
   "outputs": [
    {
     "name": "stdout",
     "output_type": "stream",
     "text": [
      "Precision :  0.9700399350954123\n",
      "Recall :  0.9662125344780176\n",
      "F1 :  0.967747214199196\n"
     ]
    }
   ],
   "source": [
    "print('Precision : ', precision_score(y_test, prediction, average = 'macro'))\n",
    "print('Recall : ', recall_score(y_test, prediction, average = 'macro'))\n",
    "print('F1 : ', f1_score(y_test, prediction, average = 'macro'))"
   ]
  },
  {
   "cell_type": "code",
   "execution_count": null,
   "metadata": {},
   "outputs": [],
   "source": []
  }
 ],
 "metadata": {
  "kernelspec": {
   "display_name": "Python 3",
   "language": "python",
   "name": "python3"
  },
  "language_info": {
   "codemirror_mode": {
    "name": "ipython",
    "version": 3
   },
   "file_extension": ".py",
   "mimetype": "text/x-python",
   "name": "python",
   "nbconvert_exporter": "python",
   "pygments_lexer": "ipython3",
   "version": "3.7.6"
  }
 },
 "nbformat": 4,
 "nbformat_minor": 4
}
