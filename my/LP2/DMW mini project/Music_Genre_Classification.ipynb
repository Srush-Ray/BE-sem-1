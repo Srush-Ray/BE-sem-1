{
 "cells": [
  {
   "cell_type": "code",
   "execution_count": 1,
   "metadata": {},
   "outputs": [],
   "source": [
    "import os\n",
    "import librosa\n",
    "import itertools\n",
    "import numpy as np\n",
    "import pandas as pd\n",
    "import matplotlib.pyplot as plt\n",
    "from scipy.stats import kurtosis\n",
    "from scipy.stats import skew"
   ]
  },
  {
   "cell_type": "code",
   "execution_count": 3,
   "metadata": {},
   "outputs": [],
   "source": [
    "import sklearn\n",
    "from sklearn.preprocessing import StandardScaler\n",
    "from sklearn.metrics import accuracy_score\n",
    "from sklearn.metrics import confusion_matrix\n",
    "from sklearn.pipeline import Pipeline\n",
    "from sklearn.feature_selection import SelectKBest\n",
    "from sklearn.model_selection import GridSearchCV\n",
    "from sklearn.model_selection import train_test_split\n",
    "\n",
    "from sklearn.decomposition import PCA\n",
    "from sklearn.manifold import TSNE\n",
    "from sklearn.discriminant_analysis import LinearDiscriminantAnalysis as LDA\n",
    "\n",
    "from sklearn.feature_selection import VarianceThreshold\n",
    "from sklearn.feature_selection import SelectFromModel\n",
    "\n",
    "import lightgbm as lgbm\n",
    "from sklearn.linear_model import LogisticRegression\n",
    "from sklearn.linear_model import SGDClassifier\n",
    "from sklearn.tree import DecisionTreeClassifier\n",
    "from sklearn.ensemble import RandomForestClassifier\n",
    "from sklearn.svm import SVC"
   ]
  },
  {
   "cell_type": "code",
   "execution_count": 4,
   "metadata": {},
   "outputs": [],
   "source": [
    "# Set the seed\n",
    "np.random.seed(42)"
   ]
  },
  {
   "cell_type": "code",
   "execution_count": 5,
   "metadata": {},
   "outputs": [],
   "source": [
    "gtzan_dir = '/home/hp/BE_Proj/jupyternt/Music/genres/'"
   ]
  },
  {
   "cell_type": "code",
   "execution_count": 6,
   "metadata": {},
   "outputs": [],
   "source": [
    "song_samples = 22050*30\n",
    "genres = {'metal': 0, 'disco': 1, 'classical': 2, 'hiphop': 3, 'jazz': 4, \n",
    "          'country': 5, 'pop': 6, 'blues': 7, 'reggae': 8, 'rock': 9}"
   ]
  },
  {
   "cell_type": "code",
   "execution_count": 7,
   "metadata": {},
   "outputs": [],
   "source": [
    "def get_features(y, sr, n_fft = 1024, hop_length = 512):\n",
    "    # Features to concatenate in the final dictionary\n",
    "    features = {'centroid': None, 'roloff': None, 'flux': None, 'rmse': None,\n",
    "                'zcr': None, 'contrast': None, 'bandwidth': None, 'flatness': None}\n",
    "    \n",
    "    # Count silence\n",
    "    if 0 < len(y):\n",
    "        y_sound, _ = librosa.effects.trim(y, frame_length=n_fft, hop_length=hop_length)\n",
    "    features['sample_silence'] = len(y) - len(y_sound)\n",
    "\n",
    "    # Using librosa to calculate the features\n",
    "    features['centroid'] = librosa.feature.spectral_centroid(y, sr=sr, n_fft=n_fft, hop_length=hop_length).ravel()\n",
    "    features['roloff'] = librosa.feature.spectral_rolloff(y, sr=sr, n_fft=n_fft, hop_length=hop_length).ravel()\n",
    "    features['zcr'] = librosa.feature.zero_crossing_rate(y, frame_length=n_fft, hop_length=hop_length).ravel()\n",
    "    features['rmse'] = librosa.feature.rms(y, frame_length=n_fft, hop_length=hop_length).ravel()\n",
    "    features['flux'] = librosa.onset.onset_strength(y=y, sr=sr).ravel()\n",
    "    features['contrast'] = librosa.feature.spectral_contrast(y, sr=sr).ravel()\n",
    "    features['bandwidth'] = librosa.feature.spectral_bandwidth(y, sr=sr, n_fft=n_fft, hop_length=hop_length).ravel()\n",
    "    features['flatness'] = librosa.feature.spectral_flatness(y, n_fft=n_fft, hop_length=hop_length).ravel()\n",
    "    \n",
    "    # MFCC treatment\n",
    "    mfcc = librosa.feature.mfcc(y, n_fft = n_fft, hop_length = hop_length, n_mfcc=13)\n",
    "    for idx, v_mfcc in enumerate(mfcc):\n",
    "        features['mfcc_{}'.format(idx)] = v_mfcc.ravel()\n",
    "        \n",
    "    # Get statistics from the vectors\n",
    "    def get_moments(descriptors):\n",
    "        result = {}\n",
    "        for k, v in descriptors.items():\n",
    "            result['{}_max'.format(k)] = np.max(v)\n",
    "            result['{}_min'.format(k)] = np.min(v)\n",
    "            result['{}_mean'.format(k)] = np.mean(v)\n",
    "            result['{}_std'.format(k)] = np.std(v)\n",
    "            result['{}_kurtosis'.format(k)] = kurtosis(v)\n",
    "            result['{}_skew'.format(k)] = skew(v)\n",
    "        return result\n",
    "    \n",
    "    dict_agg_features = get_moments(features)\n",
    "    dict_agg_features['tempo'] = librosa.beat.tempo(y, sr=sr)[0]\n",
    "    \n",
    "    return dict_agg_features"
   ]
  },
  {
   "cell_type": "code",
   "execution_count": 8,
   "metadata": {},
   "outputs": [],
   "source": [
    "def read_process_songs(src_dir, debug = True):    \n",
    "    # Empty array of dicts with the processed features from all files\n",
    "    arr_features = []\n",
    "\n",
    "    # Read files from the folders\n",
    "    for x,_ in genres.items():\n",
    "        folder = src_dir + x\n",
    "        \n",
    "        for root, subdirs, files in os.walk(folder):\n",
    "            for file in files:\n",
    "                # Read the audio file\n",
    "                file_name = folder + \"/\" + file\n",
    "                signal, sr = librosa.load(file_name)\n",
    "                \n",
    "                # Debug process\n",
    "                if debug:\n",
    "                    print(\"Reading file: {}\".format(file_name))\n",
    "                \n",
    "                # Append the result to the data structure\n",
    "                features = get_features(signal, sr)\n",
    "                features['genre'] = genres[x]\n",
    "                arr_features.append(features)\n",
    "    return arr_features"
   ]
  },
  {
   "cell_type": "code",
   "execution_count": 9,
   "metadata": {},
   "outputs": [
    {
     "name": "stdout",
     "output_type": "stream",
     "text": [
      "CPU times: user 18min 34s, sys: 7min 20s, total: 25min 55s\n",
      "Wall time: 12min 35s\n"
     ]
    }
   ],
   "source": [
    "%%time\n",
    "\n",
    "features = read_process_songs(gtzan_dir, debug=False)"
   ]
  },
  {
   "cell_type": "code",
   "execution_count": 10,
   "metadata": {},
   "outputs": [],
   "source": [
    "df_features = pd.DataFrame(features)"
   ]
  },
  {
   "cell_type": "code",
   "execution_count": 11,
   "metadata": {},
   "outputs": [
    {
     "data": {
      "text/plain": [
       "(1000, 134)"
      ]
     },
     "execution_count": 11,
     "metadata": {},
     "output_type": "execute_result"
    }
   ],
   "source": [
    "df_features.shape"
   ]
  },
  {
   "cell_type": "code",
   "execution_count": 12,
   "metadata": {},
   "outputs": [
    {
     "data": {
      "text/html": [
       "<div>\n",
       "<style scoped>\n",
       "    .dataframe tbody tr th:only-of-type {\n",
       "        vertical-align: middle;\n",
       "    }\n",
       "\n",
       "    .dataframe tbody tr th {\n",
       "        vertical-align: top;\n",
       "    }\n",
       "\n",
       "    .dataframe thead th {\n",
       "        text-align: right;\n",
       "    }\n",
       "</style>\n",
       "<table border=\"1\" class=\"dataframe\">\n",
       "  <thead>\n",
       "    <tr style=\"text-align: right;\">\n",
       "      <th></th>\n",
       "      <th>centroid_max</th>\n",
       "      <th>centroid_min</th>\n",
       "      <th>centroid_mean</th>\n",
       "      <th>centroid_std</th>\n",
       "      <th>centroid_kurtosis</th>\n",
       "      <th>centroid_skew</th>\n",
       "      <th>roloff_max</th>\n",
       "      <th>roloff_min</th>\n",
       "      <th>roloff_mean</th>\n",
       "      <th>roloff_std</th>\n",
       "      <th>...</th>\n",
       "      <th>mfcc_11_kurtosis</th>\n",
       "      <th>mfcc_11_skew</th>\n",
       "      <th>mfcc_12_max</th>\n",
       "      <th>mfcc_12_min</th>\n",
       "      <th>mfcc_12_mean</th>\n",
       "      <th>mfcc_12_std</th>\n",
       "      <th>mfcc_12_kurtosis</th>\n",
       "      <th>mfcc_12_skew</th>\n",
       "      <th>tempo</th>\n",
       "      <th>genre</th>\n",
       "    </tr>\n",
       "  </thead>\n",
       "  <tbody>\n",
       "    <tr>\n",
       "      <th>0</th>\n",
       "      <td>3763.003935</td>\n",
       "      <td>543.308383</td>\n",
       "      <td>1916.174010</td>\n",
       "      <td>585.415692</td>\n",
       "      <td>-0.451655</td>\n",
       "      <td>-0.057400</td>\n",
       "      <td>8031.884766</td>\n",
       "      <td>473.730469</td>\n",
       "      <td>4113.391368</td>\n",
       "      <td>1170.620398</td>\n",
       "      <td>...</td>\n",
       "      <td>0.185810</td>\n",
       "      <td>0.204371</td>\n",
       "      <td>15.856697</td>\n",
       "      <td>-29.054155</td>\n",
       "      <td>-8.306104</td>\n",
       "      <td>7.436500</td>\n",
       "      <td>0.197962</td>\n",
       "      <td>0.307333</td>\n",
       "      <td>112.347147</td>\n",
       "      <td>0</td>\n",
       "    </tr>\n",
       "    <tr>\n",
       "      <th>1</th>\n",
       "      <td>5952.646726</td>\n",
       "      <td>1080.639832</td>\n",
       "      <td>2777.188529</td>\n",
       "      <td>597.434429</td>\n",
       "      <td>3.121226</td>\n",
       "      <td>0.845066</td>\n",
       "      <td>8311.816406</td>\n",
       "      <td>2540.917969</td>\n",
       "      <td>5837.979445</td>\n",
       "      <td>861.814240</td>\n",
       "      <td>...</td>\n",
       "      <td>0.587073</td>\n",
       "      <td>-0.308574</td>\n",
       "      <td>18.938828</td>\n",
       "      <td>-32.047089</td>\n",
       "      <td>-6.559793</td>\n",
       "      <td>8.022807</td>\n",
       "      <td>0.065357</td>\n",
       "      <td>0.177972</td>\n",
       "      <td>161.499023</td>\n",
       "      <td>0</td>\n",
       "    </tr>\n",
       "    <tr>\n",
       "      <th>2</th>\n",
       "      <td>4428.644005</td>\n",
       "      <td>1361.280926</td>\n",
       "      <td>2675.731095</td>\n",
       "      <td>488.185761</td>\n",
       "      <td>0.195966</td>\n",
       "      <td>0.523736</td>\n",
       "      <td>7730.419922</td>\n",
       "      <td>2906.982422</td>\n",
       "      <td>5349.610395</td>\n",
       "      <td>906.740422</td>\n",
       "      <td>...</td>\n",
       "      <td>0.098584</td>\n",
       "      <td>-0.241992</td>\n",
       "      <td>8.338059</td>\n",
       "      <td>-35.737545</td>\n",
       "      <td>-13.719345</td>\n",
       "      <td>6.286901</td>\n",
       "      <td>0.294574</td>\n",
       "      <td>0.047421</td>\n",
       "      <td>112.347147</td>\n",
       "      <td>0</td>\n",
       "    </tr>\n",
       "    <tr>\n",
       "      <th>3</th>\n",
       "      <td>5514.393296</td>\n",
       "      <td>1789.366583</td>\n",
       "      <td>3176.995746</td>\n",
       "      <td>550.485825</td>\n",
       "      <td>1.277930</td>\n",
       "      <td>0.851571</td>\n",
       "      <td>9905.273438</td>\n",
       "      <td>4005.175781</td>\n",
       "      <td>6235.702536</td>\n",
       "      <td>1316.782580</td>\n",
       "      <td>...</td>\n",
       "      <td>-0.381803</td>\n",
       "      <td>-0.087361</td>\n",
       "      <td>20.820358</td>\n",
       "      <td>-32.647717</td>\n",
       "      <td>-4.103275</td>\n",
       "      <td>8.186303</td>\n",
       "      <td>0.171622</td>\n",
       "      <td>-0.170111</td>\n",
       "      <td>95.703125</td>\n",
       "      <td>0</td>\n",
       "    </tr>\n",
       "    <tr>\n",
       "      <th>4</th>\n",
       "      <td>4679.959464</td>\n",
       "      <td>579.444176</td>\n",
       "      <td>2594.710477</td>\n",
       "      <td>717.402348</td>\n",
       "      <td>-0.273551</td>\n",
       "      <td>0.075716</td>\n",
       "      <td>7428.955078</td>\n",
       "      <td>667.529297</td>\n",
       "      <td>4953.069714</td>\n",
       "      <td>1312.870066</td>\n",
       "      <td>...</td>\n",
       "      <td>0.230318</td>\n",
       "      <td>-0.720155</td>\n",
       "      <td>9.764196</td>\n",
       "      <td>-34.910488</td>\n",
       "      <td>-14.369601</td>\n",
       "      <td>7.955021</td>\n",
       "      <td>-0.332166</td>\n",
       "      <td>0.190768</td>\n",
       "      <td>95.703125</td>\n",
       "      <td>0</td>\n",
       "    </tr>\n",
       "  </tbody>\n",
       "</table>\n",
       "<p>5 rows × 134 columns</p>\n",
       "</div>"
      ],
      "text/plain": [
       "   centroid_max  centroid_min  centroid_mean  centroid_std  centroid_kurtosis  \\\n",
       "0   3763.003935    543.308383    1916.174010    585.415692          -0.451655   \n",
       "1   5952.646726   1080.639832    2777.188529    597.434429           3.121226   \n",
       "2   4428.644005   1361.280926    2675.731095    488.185761           0.195966   \n",
       "3   5514.393296   1789.366583    3176.995746    550.485825           1.277930   \n",
       "4   4679.959464    579.444176    2594.710477    717.402348          -0.273551   \n",
       "\n",
       "   centroid_skew   roloff_max   roloff_min  roloff_mean   roloff_std  ...  \\\n",
       "0      -0.057400  8031.884766   473.730469  4113.391368  1170.620398  ...   \n",
       "1       0.845066  8311.816406  2540.917969  5837.979445   861.814240  ...   \n",
       "2       0.523736  7730.419922  2906.982422  5349.610395   906.740422  ...   \n",
       "3       0.851571  9905.273438  4005.175781  6235.702536  1316.782580  ...   \n",
       "4       0.075716  7428.955078   667.529297  4953.069714  1312.870066  ...   \n",
       "\n",
       "   mfcc_11_kurtosis  mfcc_11_skew  mfcc_12_max  mfcc_12_min  mfcc_12_mean  \\\n",
       "0          0.185810      0.204371    15.856697   -29.054155     -8.306104   \n",
       "1          0.587073     -0.308574    18.938828   -32.047089     -6.559793   \n",
       "2          0.098584     -0.241992     8.338059   -35.737545    -13.719345   \n",
       "3         -0.381803     -0.087361    20.820358   -32.647717     -4.103275   \n",
       "4          0.230318     -0.720155     9.764196   -34.910488    -14.369601   \n",
       "\n",
       "   mfcc_12_std  mfcc_12_kurtosis  mfcc_12_skew       tempo  genre  \n",
       "0     7.436500          0.197962      0.307333  112.347147      0  \n",
       "1     8.022807          0.065357      0.177972  161.499023      0  \n",
       "2     6.286901          0.294574      0.047421  112.347147      0  \n",
       "3     8.186303          0.171622     -0.170111   95.703125      0  \n",
       "4     7.955021         -0.332166      0.190768   95.703125      0  \n",
       "\n",
       "[5 rows x 134 columns]"
      ]
     },
     "execution_count": 12,
     "metadata": {},
     "output_type": "execute_result"
    }
   ],
   "source": [
    "df_features.head()"
   ]
  },
  {
   "cell_type": "code",
   "execution_count": 13,
   "metadata": {},
   "outputs": [],
   "source": [
    "df_features.to_csv('/home/hp/BE_Proj/jupyternt/Music/gtzan_features.csv', index=False)"
   ]
  },
  {
   "cell_type": "code",
   "execution_count": 14,
   "metadata": {},
   "outputs": [],
   "source": [
    "X = df_features.drop(['genre'], axis=1).values\n",
    "y = df_features['genre'].values"
   ]
  },
  {
   "cell_type": "code",
   "execution_count": 15,
   "metadata": {},
   "outputs": [],
   "source": [
    "# Standartize the dataset\n",
    "scale = StandardScaler()\n",
    "x_scaled = scale.fit_transform(X)"
   ]
  },
  {
   "cell_type": "code",
   "execution_count": 16,
   "metadata": {},
   "outputs": [
    {
     "name": "stdout",
     "output_type": "stream",
     "text": [
      "cumulative explained variance ratio = 0.8737\n"
     ]
    }
   ],
   "source": [
    "# Use PCA only for visualization\n",
    "pca = PCA(n_components=35, whiten=True)\n",
    "x_pca = pca.fit_transform(x_scaled)\n",
    "print(\"cumulative explained variance ratio = {:.4f}\".format(np.sum(pca.explained_variance_ratio_)))"
   ]
  },
  {
   "cell_type": "code",
   "execution_count": 17,
   "metadata": {},
   "outputs": [],
   "source": [
    "# Use LDA only for visualization\n",
    "lda = LDA()\n",
    "x_lda = lda.fit_transform(x_scaled, y)"
   ]
  },
  {
   "cell_type": "code",
   "execution_count": 18,
   "metadata": {},
   "outputs": [
    {
     "name": "stdout",
     "output_type": "stream",
     "text": [
      "[t-SNE] Computing 91 nearest neighbors...\n",
      "[t-SNE] Indexed 1000 samples in 0.084s...\n",
      "[t-SNE] Computed neighbors for 1000 samples in 0.277s...\n",
      "[t-SNE] Computed conditional probabilities for sample 1000 / 1000\n",
      "[t-SNE] Mean sigma: 3.258476\n",
      "[t-SNE] KL divergence after 250 iterations with early exaggeration: 74.496796\n",
      "[t-SNE] KL divergence after 1000 iterations: 1.033287\n"
     ]
    }
   ],
   "source": [
    "# Using tsne\n",
    "tsne = TSNE(n_components=2, verbose=1, learning_rate=250)\n",
    "x_tsne = tsne.fit_transform(x_scaled)"
   ]
  },
  {
   "cell_type": "code",
   "execution_count": 20,
   "metadata": {},
   "outputs": [],
   "source": [
    "# Helper to plot confusion matrix -- from Scikit-learn website\n",
    "def plot_confusion_matrix(cm, classes,\n",
    "                          normalize=False,\n",
    "                          title='Confusion matrix',\n",
    "                          cmap=plt.cm.Blues):\n",
    "    \"\"\"\n",
    "    This function prints and plots the confusion matrix.\n",
    "    Normalization can be applied by setting `normalize=True`.\n",
    "    \"\"\"\n",
    "    if normalize:\n",
    "        cm = cm.astype('float') / cm.sum(axis=1)[:, np.newaxis]\n",
    "\n",
    "    plt.imshow(cm, interpolation='nearest', cmap=cmap)\n",
    "    plt.title(title)\n",
    "    plt.colorbar()\n",
    "    tick_marks = np.arange(len(classes))\n",
    "    plt.xticks(tick_marks, classes, rotation=45)\n",
    "    plt.yticks(tick_marks, classes)\n",
    "\n",
    "    fmt = '.2f' if normalize else 'd'\n",
    "    thresh = cm.max() / 2.\n",
    "    for i, j in itertools.product(range(cm.shape[0]), range(cm.shape[1])):\n",
    "        plt.text(j, i, format(cm[i, j], fmt),\n",
    "                 horizontalalignment=\"center\",\n",
    "                 color=\"white\" if cm[i, j] > thresh else \"black\")\n",
    "\n",
    "    plt.ylabel('True label')\n",
    "    plt.xlabel('Predicted label')\n",
    "    plt.show()"
   ]
  },
  {
   "cell_type": "code",
   "execution_count": 21,
   "metadata": {},
   "outputs": [],
   "source": [
    "X_train, X_test, y_train, y_test = train_test_split(X, y, stratify=y)"
   ]
  },
  {
   "cell_type": "code",
   "execution_count": 22,
   "metadata": {},
   "outputs": [
    {
     "data": {
      "text/plain": [
       "GridSearchCV(cv=5,\n",
       "             estimator=Pipeline(steps=[('var_tresh',\n",
       "                                        VarianceThreshold(threshold=0.15999999999999998)),\n",
       "                                       ('feature_selection',\n",
       "                                        SelectFromModel(estimator=LGBMClassifier())),\n",
       "                                       ('cls', DecisionTreeClassifier())]),\n",
       "             n_jobs=6,\n",
       "             param_grid={'cls__criterion': ['gini', 'entropy'],\n",
       "                         'cls__splitter': ['best', 'random']},\n",
       "             scoring='accuracy')"
      ]
     },
     "execution_count": 22,
     "metadata": {},
     "output_type": "execute_result"
    }
   ],
   "source": [
    "# DECISIOSN TREE\n",
    "\n",
    "params = {\n",
    "    \"cls__criterion\": [\"gini\", \"entropy\"],\n",
    "    \"cls__splitter\": [\"best\", \"random\"],\n",
    "}\n",
    "\n",
    "pipe_cart = Pipeline([\n",
    "    ('var_tresh', VarianceThreshold(threshold=(.8 * (1 - .8)))),\n",
    "    ('feature_selection', SelectFromModel(lgbm.LGBMClassifier())),\n",
    "    ('cls', DecisionTreeClassifier())\n",
    "])\n",
    "\n",
    "grid_cart = GridSearchCV(pipe_cart, params, scoring='accuracy', n_jobs=6, cv=5)\n",
    "grid_cart.fit(X_train, y_train)"
   ]
  },
  {
   "cell_type": "code",
   "execution_count": 28,
   "metadata": {},
   "outputs": [
    {
     "name": "stdout",
     "output_type": "stream",
     "text": [
      "[7 5 0 8 8 5 2 4 4 5 4 3 3 2 9 9 5 2 9 4 7 9 2 3 7 0 0 8 2 4 1 8 1 0 7 8 5\n",
      " 1 5 3 5 5 1 0 0 6 5 4 0 8 6 4 6 2 9 8 6 9 2 0 6 0 0 9 8 7 2 8 6 8 0 7 2 4\n",
      " 3 8 5 1 4 6 1 2 7 5 8 3 3 0 1 2 7 8 7 6 7 7 8 5 2 1 6 3 6 2 5 9 7 4 5 0 5\n",
      " 4 3 7 3 6 8 8 8 3 9 1 0 3 6 0 9 7 7 1 8 8 2 5 5 9 1 0 3 8 2 2 9 1 5 3 2 8\n",
      " 4 6 5 1 2 4 4 3 4 2 6 7 3 4 5 1 1 2 2 6 6 7 6 9 3 6 9 4 3 4 9 0 8 5 9 5 8\n",
      " 3 0 2 7 7 0 4 5 2 3 7 5 7 6 7 6 5 1 4 8 2 4 4 2 6 3 1 6 7 8 0 5 8 9 8 6 7\n",
      " 5 9 6 8 2 8 0 2 2 6 0 0 5 0 7 0 1 6 8 4 0 1 8 1 8 2 8 5]\n"
     ]
    }
   ],
   "source": [
    "preds = grid_cart.predict(X_test)\n",
    "print(preds)"
   ]
  },
  {
   "cell_type": "code",
   "execution_count": 30,
   "metadata": {},
   "outputs": [
    {
     "name": "stdout",
     "output_type": "stream",
     "text": [
      "[4 7 0 8 8 3 7 4 4 9 4 3 1 9 9 1 5 2 6 5 7 5 7 0 7 0 0 1 2 9 6 8 8 0 5 6 5\n",
      " 9 7 3 6 9 1 7 9 6 7 4 3 8 6 4 6 2 1 6 6 4 2 9 9 3 9 8 8 7 2 1 4 1 0 1 2 9\n",
      " 3 8 5 1 4 6 0 2 7 5 1 0 3 0 9 2 3 1 4 6 7 7 3 5 2 1 6 3 6 2 5 5 9 4 4 0 5\n",
      " 5 8 7 6 6 8 3 3 9 5 1 0 8 6 0 4 9 4 8 8 1 2 9 6 9 3 7 9 3 2 2 8 1 5 3 2 7\n",
      " 4 8 2 6 2 4 7 3 4 2 6 7 3 4 9 5 0 2 2 9 1 7 6 3 0 3 9 4 3 4 9 0 7 9 8 5 8\n",
      " 3 0 2 8 7 0 1 5 2 0 7 1 8 6 7 6 9 7 4 1 4 1 4 4 5 3 5 6 5 8 0 5 3 8 8 9 5\n",
      " 2 1 6 8 2 8 0 2 2 3 0 0 5 0 7 0 7 1 3 4 0 1 6 1 5 1 8 5]\n",
      "Score on validation set (accuracy) = 0.5080\n",
      "Score on test set (accuracy) = 0.5440\n"
     ]
    }
   ],
   "source": [
    "print(y_test)\n",
    "print(\"Score on validation set (accuracy) = {:.4f}\".format(grid_cart.best_score_))\n",
    "print(\"Score on test set (accuracy) = {:.4f}\".format(accuracy_score(y_test, preds)))"
   ]
  },
  {
   "cell_type": "code",
   "execution_count": 31,
   "metadata": {},
   "outputs": [
    {
     "data": {
      "text/plain": [
       "GridSearchCV(cv=5,\n",
       "             estimator=Pipeline(steps=[('scale', StandardScaler()),\n",
       "                                       ('var_tresh',\n",
       "                                        VarianceThreshold(threshold=0.15999999999999998)),\n",
       "                                       ('feature_selection',\n",
       "                                        SelectFromModel(estimator=LGBMClassifier())),\n",
       "                                       ('cls', SVC())]),\n",
       "             n_jobs=6,\n",
       "             param_grid={'cls__C': [0.5, 1, 2, 5],\n",
       "                         'cls__kernel': ['rbf', 'linear', 'sigmoid']},\n",
       "             scoring='accuracy')"
      ]
     },
     "execution_count": 31,
     "metadata": {},
     "output_type": "execute_result"
    }
   ],
   "source": [
    "# SVM\n",
    "\n",
    "params = {\n",
    "    \"cls__C\": [0.5, 1, 2, 5],\n",
    "    \"cls__kernel\": ['rbf', 'linear', 'sigmoid'],\n",
    "}\n",
    "\n",
    "pipe_svm = Pipeline([\n",
    "    ('scale', StandardScaler()),\n",
    "    ('var_tresh', VarianceThreshold(threshold=(.8 * (1 - .8)))),\n",
    "    ('feature_selection', SelectFromModel(lgbm.LGBMClassifier())),\n",
    "    ('cls', SVC())\n",
    "])\n",
    "\n",
    "grid_svm = GridSearchCV(pipe_svm, params, scoring='accuracy', n_jobs=6, cv=5)\n",
    "grid_svm.fit(X_train, y_train)"
   ]
  },
  {
   "cell_type": "code",
   "execution_count": 32,
   "metadata": {},
   "outputs": [
    {
     "name": "stdout",
     "output_type": "stream",
     "text": [
      "[4 7 0 8 8 6 5 4 4 9 4 2 1 2 9 1 1 2 5 5 7 5 7 0 7 0 8 1 2 9 9 8 8 0 9 6 5\n",
      " 9 7 3 5 9 1 7 0 6 7 4 3 8 6 4 6 2 3 9 6 9 2 9 1 3 9 1 8 9 2 1 4 6 0 1 2 9\n",
      " 3 8 5 1 4 6 0 2 7 5 1 0 3 0 7 2 0 8 4 6 7 7 8 5 2 1 3 3 6 2 5 5 9 4 4 0 5\n",
      " 5 8 7 6 6 8 8 3 0 9 3 1 6 6 0 4 9 4 8 8 1 2 5 9 9 3 7 8 3 2 2 7 1 5 3 2 7\n",
      " 4 6 2 3 2 4 7 3 4 2 6 7 3 4 9 1 0 2 2 9 1 7 6 3 0 3 9 4 3 4 9 0 7 5 8 5 8\n",
      " 3 0 2 8 8 0 1 5 2 0 7 1 9 6 7 1 9 7 4 8 4 9 4 4 5 3 5 6 5 8 0 5 3 9 8 9 5\n",
      " 4 1 6 8 2 3 0 2 2 3 0 0 5 0 7 0 7 1 8 4 0 1 3 1 1 2 8 5]\n"
     ]
    }
   ],
   "source": [
    "preds = grid_svm.predict(X_test)\n",
    "print(preds)"
   ]
  },
  {
   "cell_type": "code",
   "execution_count": 34,
   "metadata": {},
   "outputs": [
    {
     "name": "stdout",
     "output_type": "stream",
     "text": [
      "[4 7 0 8 8 3 7 4 4 9 4 3 1 9 9 1 5 2 6 5 7 5 7 0 7 0 0 1 2 9 6 8 8 0 5 6 5\n",
      " 9 7 3 6 9 1 7 9 6 7 4 3 8 6 4 6 2 1 6 6 4 2 9 9 3 9 8 8 7 2 1 4 1 0 1 2 9\n",
      " 3 8 5 1 4 6 0 2 7 5 1 0 3 0 9 2 3 1 4 6 7 7 3 5 2 1 6 3 6 2 5 5 9 4 4 0 5\n",
      " 5 8 7 6 6 8 3 3 9 5 1 0 8 6 0 4 9 4 8 8 1 2 9 6 9 3 7 9 3 2 2 8 1 5 3 2 7\n",
      " 4 8 2 6 2 4 7 3 4 2 6 7 3 4 9 5 0 2 2 9 1 7 6 3 0 3 9 4 3 4 9 0 7 9 8 5 8\n",
      " 3 0 2 8 7 0 1 5 2 0 7 1 8 6 7 6 9 7 4 1 4 1 4 4 5 3 5 6 5 8 0 5 3 8 8 9 5\n",
      " 2 1 6 8 2 8 0 2 2 3 0 0 5 0 7 0 7 1 3 4 0 1 6 1 5 1 8 5]\n",
      "Score on validation set (accuracy) = 0.7827\n",
      "Score on test set (accuracy) = 0.8040\n"
     ]
    }
   ],
   "source": [
    "print(y_test)\n",
    "print(\"Score on validation set (accuracy) = {:.4f}\".format(grid_svm.best_score_))\n",
    "print(\"Score on test set (accuracy) = {:.4f}\".format(accuracy_score(y_test, preds)))"
   ]
  },
  {
   "cell_type": "code",
   "execution_count": 35,
   "metadata": {},
   "outputs": [
    {
     "data": {
      "text/plain": [
       "GridSearchCV(cv=5,\n",
       "             estimator=Pipeline(steps=[('var_tresh',\n",
       "                                        VarianceThreshold(threshold=0.15999999999999998)),\n",
       "                                       ('feature_selection',\n",
       "                                        SelectFromModel(estimator=LGBMClassifier())),\n",
       "                                       ('cls', RandomForestClassifier())]),\n",
       "             n_jobs=6,\n",
       "             param_grid={'cls__criterion': ['gini', 'entropy'],\n",
       "                         'cls__max_depth': [5, 7, None],\n",
       "                         'cls__n_estimators': [100, 250, 500, 1000]},\n",
       "             scoring='accuracy')"
      ]
     },
     "execution_count": 35,
     "metadata": {},
     "output_type": "execute_result"
    }
   ],
   "source": [
    "# Random Forest\n",
    "params = {\n",
    "    \"cls__n_estimators\": [100, 250, 500, 1000],\n",
    "    \"cls__criterion\": [\"gini\", \"entropy\"],\n",
    "    \"cls__max_depth\": [5, 7, None]\n",
    "}\n",
    "\n",
    "pipe_rf = Pipeline([\n",
    "    ('var_tresh', VarianceThreshold(threshold=(.8 * (1 - .8)))),\n",
    "    ('feature_selection', SelectFromModel(lgbm.LGBMClassifier())),\n",
    "    ('cls', RandomForestClassifier())\n",
    "])\n",
    "\n",
    "grid_rf = GridSearchCV(pipe_rf, params, scoring='accuracy', n_jobs=6, cv=5)\n",
    "grid_rf.fit(X_train, y_train)"
   ]
  },
  {
   "cell_type": "code",
   "execution_count": 36,
   "metadata": {},
   "outputs": [
    {
     "name": "stdout",
     "output_type": "stream",
     "text": [
      "[4 7 0 8 8 6 7 4 4 9 4 3 1 4 9 1 7 2 9 7 7 1 7 0 7 0 3 8 2 4 9 8 8 0 1 6 5\n",
      " 7 5 3 5 9 1 9 0 6 7 4 3 8 6 4 6 2 1 8 6 5 2 0 6 3 1 5 8 9 2 1 8 6 0 1 2 9\n",
      " 3 8 5 1 4 6 0 2 7 5 1 3 3 0 1 2 0 8 4 6 7 7 8 5 2 1 6 8 6 2 5 5 1 4 4 0 5\n",
      " 5 8 7 6 6 8 8 6 0 9 3 0 6 6 0 4 9 4 8 8 1 2 8 8 9 3 7 8 8 2 2 1 1 5 3 2 8\n",
      " 4 6 2 1 2 2 7 3 4 2 6 7 3 4 4 1 0 2 2 4 1 7 6 3 0 8 9 4 3 4 7 0 7 5 8 5 8\n",
      " 3 0 2 8 7 0 9 5 2 0 7 4 4 6 7 6 4 1 4 6 4 9 4 4 5 3 5 6 5 8 0 5 3 1 8 9 5\n",
      " 2 1 6 8 2 8 0 2 2 3 0 0 7 0 4 0 1 6 8 4 0 3 3 1 6 2 8 8]\n"
     ]
    }
   ],
   "source": [
    "#Random Forest\n",
    "preds = grid_rf.predict(X_test)\n",
    "print(preds)"
   ]
  },
  {
   "cell_type": "code",
   "execution_count": 37,
   "metadata": {},
   "outputs": [
    {
     "name": "stdout",
     "output_type": "stream",
     "text": [
      "[4 7 0 8 8 3 7 4 4 9 4 3 1 9 9 1 5 2 6 5 7 5 7 0 7 0 0 1 2 9 6 8 8 0 5 6 5\n",
      " 9 7 3 6 9 1 7 9 6 7 4 3 8 6 4 6 2 1 6 6 4 2 9 9 3 9 8 8 7 2 1 4 1 0 1 2 9\n",
      " 3 8 5 1 4 6 0 2 7 5 1 0 3 0 9 2 3 1 4 6 7 7 3 5 2 1 6 3 6 2 5 5 9 4 4 0 5\n",
      " 5 8 7 6 6 8 3 3 9 5 1 0 8 6 0 4 9 4 8 8 1 2 9 6 9 3 7 9 3 2 2 8 1 5 3 2 7\n",
      " 4 8 2 6 2 4 7 3 4 2 6 7 3 4 9 5 0 2 2 9 1 7 6 3 0 3 9 4 3 4 9 0 7 9 8 5 8\n",
      " 3 0 2 8 7 0 1 5 2 0 7 1 8 6 7 6 9 7 4 1 4 1 4 4 5 3 5 6 5 8 0 5 3 8 8 9 5\n",
      " 2 1 6 8 2 8 0 2 2 3 0 0 5 0 7 0 7 1 3 4 0 1 6 1 5 1 8 5]\n",
      "best score on validation set (accuracy) = 0.7133\n",
      "best score on test set (accuracy) = 0.7160\n"
     ]
    }
   ],
   "source": [
    "print(y_test)\n",
    "print(\"best score on validation set (accuracy) = {:.4f}\".format(grid_rf.best_score_))\n",
    "print(\"best score on test set (accuracy) = {:.4f}\".format(accuracy_score(y_test, preds)))"
   ]
  },
  {
   "cell_type": "code",
   "execution_count": 38,
   "metadata": {},
   "outputs": [],
   "source": [
    "cm = confusion_matrix(y_test, preds)\n",
    "classes = ['metal', 'disco', 'classical', 'hiphop', 'jazz', 'country', 'pop', 'blues', 'reggae', 'rock']"
   ]
  },
  {
   "cell_type": "code",
   "execution_count": 39,
   "metadata": {},
   "outputs": [
    {
     "data": {
      "image/png": "[encoded data removed]",
      "text/plain": [
       "<Figure size 720x720 with 2 Axes>"
      ]
     },
     "metadata": {
      "needs_background": "light"
     },
     "output_type": "display_data"
    }
   ],
   "source": [
    "plt.figure(figsize=(10,10))\n",
    "plot_confusion_matrix(cm, classes, normalize=True)"
   ]
  },
  {
   "cell_type": "code",
   "execution_count": null,
   "metadata": {},
   "outputs": [],
   "source": []
  }
 ],
 "metadata": {
  "kernelspec": {
   "display_name": "Python 3",
   "language": "python",
   "name": "python3"
  },
  "language_info": {
   "codemirror_mode": {
    "name": "ipython",
    "version": 3
   },
   "file_extension": ".py",
   "mimetype": "text/x-python",
   "name": "python",
   "nbconvert_exporter": "python",
   "pygments_lexer": "ipython3",
   "version": "3.6.9"
  }
 },
 "nbformat": 4,
 "nbformat_minor": 4
}
