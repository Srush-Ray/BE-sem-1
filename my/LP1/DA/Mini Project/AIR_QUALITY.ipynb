{
 "cells": [
  {
   "cell_type": "code",
   "execution_count": 1,
   "metadata": {},
   "outputs": [
    {
     "name": "stdout",
     "output_type": "stream",
     "text": [
      "Requirement already satisfied: chart_studio in ./anaconda3/lib/python3.7/site-packages (1.1.0)\n",
      "Requirement already satisfied: six in ./anaconda3/lib/python3.7/site-packages (from chart_studio) (1.14.0)\n",
      "Requirement already satisfied: plotly in ./anaconda3/lib/python3.7/site-packages (from chart_studio) (4.13.0)\n",
      "Requirement already satisfied: retrying>=1.3.3 in ./anaconda3/lib/python3.7/site-packages (from chart_studio) (1.3.3)\n",
      "Requirement already satisfied: requests in ./anaconda3/lib/python3.7/site-packages (from chart_studio) (2.22.0)\n",
      "Requirement already satisfied: idna<2.9,>=2.5 in ./anaconda3/lib/python3.7/site-packages (from requests->chart_studio) (2.8)\n",
      "Requirement already satisfied: urllib3!=1.25.0,!=1.25.1,<1.26,>=1.21.1 in ./anaconda3/lib/python3.7/site-packages (from requests->chart_studio) (1.25.8)\n",
      "Requirement already satisfied: certifi>=2017.4.17 in ./anaconda3/lib/python3.7/site-packages (from requests->chart_studio) (2019.11.28)\n",
      "Requirement already satisfied: chardet<3.1.0,>=3.0.2 in ./anaconda3/lib/python3.7/site-packages (from requests->chart_studio) (3.0.4)\n"
     ]
    },
    {
     "data": {
      "text/html": [
       "        <script type=\"text/javascript\">\n",
       "        window.PlotlyConfig = {MathJaxConfig: 'local'};\n",
       "        if (window.MathJax) {MathJax.Hub.Config({SVG: {font: \"STIX-Web\"}});}\n",
       "        if (typeof require !== 'undefined') {\n",
       "        require.undef(\"plotly\");\n",
       "        requirejs.config({\n",
       "            paths: {\n",
       "                'plotly': ['https://cdn.plot.ly/plotly-latest.min']\n",
       "            }\n",
       "        });\n",
       "        require(['plotly'], function(Plotly) {\n",
       "            window._Plotly = Plotly;\n",
       "        });\n",
       "        }\n",
       "        </script>\n",
       "        "
      ]
     },
     "metadata": {},
     "output_type": "display_data"
    }
   ],
   "source": [
    "import numpy as np\n",
    "import pandas as pd\n",
    "import seaborn as sns\n",
    "import matplotlib.pyplot as plt\n",
    "from collections import Counter\n",
    "from sklearn.metrics import confusion_matrix\n",
    "from sklearn.metrics import accuracy_score\n",
    "from sklearn.impute import SimpleImputer\n",
    "from sklearn.preprocessing import LabelEncoder\n",
    "from sklearn.model_selection import train_test_split\n",
    "from sklearn.ensemble import RandomForestClassifier\n",
    "from sklearn.tree import DecisionTreeClassifier\n",
    "from sklearn.svm import SVC\n",
    "from sklearn.metrics import precision_score\n",
    "from sklearn.metrics import recall_score\n",
    "from sklearn.metrics import f1_score\n",
    "from xgboost import XGBClassifier\n",
    "\n",
    "import matplotlib.pyplot as plt\n",
    "import seaborn as sns\n",
    "!pip install chart_studio\n",
    "import chart_studio.plotly as py\n",
    "import plotly.graph_objs as go\n",
    "from plotly.offline import iplot, init_notebook_mode\n",
    "import cufflinks\n",
    "cufflinks.go_offline()\n",
    "cufflinks.set_config_file(world_readable=True, theme='pearl')\n",
    "#"
   ]
  },
  {
   "cell_type": "code",
   "execution_count": 2,
   "metadata": {},
   "outputs": [
    {
     "name": "stdout",
     "output_type": "stream",
     "text": [
      "         City       Date   PM2.5  PM10     NO    NO2    NOx  NH3     CO  \\\n",
      "28  Ahmedabad  1/29/2015   83.13   NaN   6.93  28.71  33.72  NaN   6.93   \n",
      "29  Ahmedabad  1/30/2015   79.84   NaN  13.85  28.68  41.08  NaN  13.85   \n",
      "30  Ahmedabad  1/31/2015   94.52   NaN  24.39  32.66  52.61  NaN  24.39   \n",
      "31  Ahmedabad   2/1/2015  135.99   NaN  43.48  42.08  84.57  NaN  43.48   \n",
      "32  Ahmedabad   2/2/2015  178.33   NaN  54.56  35.31  72.80  NaN  54.56   \n",
      "\n",
      "      SO2      O3  Benzene  Toluene  Xylene    AQI Air_quality  \n",
      "28  49.52   59.76     0.02     0.00    3.14  209.0        Poor  \n",
      "29  48.49   97.07     0.04     0.00    4.81  328.0   Very Poor  \n",
      "30  67.39  111.33     0.24     0.01    7.67  514.0      Severe  \n",
      "31  75.23  102.70     0.40     0.04   25.87  782.0      Severe  \n",
      "32  55.04  107.38     0.46     0.06   35.61  914.0      Severe  \n"
     ]
    }
   ],
   "source": [
    "dataset = pd.read_csv(\"City_day.csv\");\n",
    "\n",
    "dataset.dropna(axis=0, subset = [\"Air_quality\", \"Xylene\", \"AQI\", \"Toluene\",\n",
    "                                  \"Benzene\", \"O3\", \"SO2\", \"CO\", \"NH3\", \"NOx\", \n",
    "                                  \"NO2\", \"PM10\", \"PM2.5\", \"NO\"], how = 'all', inplace= True)\n",
    "dataset.dropna(subset = [\"Air_quality\"], inplace=True)\n",
    "      \n",
    "x = dataset.iloc[:, :-1].values\n",
    "y = dataset.iloc[:,15].values\n",
    "\n",
    "print(dataset.head())"
   ]
  },
  {
   "cell_type": "code",
   "execution_count": 3,
   "metadata": {},
   "outputs": [
    {
     "data": {
      "text/plain": [
       "City               0\n",
       "Date               0\n",
       "PM2.5            635\n",
       "PM10            6975\n",
       "NO               308\n",
       "NO2              305\n",
       "NOx             1785\n",
       "NH3             6323\n",
       "CO               416\n",
       "SO2              554\n",
       "O3               709\n",
       "Benzene         3270\n",
       "Toluene         5435\n",
       "Xylene         14208\n",
       "AQI                0\n",
       "Air_quality        0\n",
       "dtype: int64"
      ]
     },
     "execution_count": 3,
     "metadata": {},
     "output_type": "execute_result"
    }
   ],
   "source": [
    "# Check for possible null values in the dataset as missing values potentially screw the ml models\n",
    "dataset.isnull().sum()"
   ]
  },
  {
   "cell_type": "code",
   "execution_count": 4,
   "metadata": {},
   "outputs": [],
   "source": [
    "imputer = SimpleImputer(missing_values = np.nan, strategy = 'median')\n",
    "imputer = imputer.fit(x[:,2:15])\n",
    "x[:,2:15] = imputer.transform(x[:,2:15])\n"
   ]
  },
  {
   "cell_type": "code",
   "execution_count": 5,
   "metadata": {},
   "outputs": [],
   "source": [
    "le_X_city = LabelEncoder()\n",
    "le_X_date = LabelEncoder()\n",
    "le_Y = LabelEncoder()\n",
    "y = le_Y.fit_transform(y)\n",
    "\n",
    "x[:,0] = le_X_city.fit_transform(x[:,0])\n",
    "x[:,1] = le_X_date.fit_transform(x[:,1])"
   ]
  },
  {
   "cell_type": "code",
   "execution_count": 6,
   "metadata": {},
   "outputs": [
    {
     "name": "stdout",
     "output_type": "stream",
     "text": [
      "<class 'pandas.core.frame.DataFrame'>\n",
      "Int64Index: 21937 entries, 28 to 26218\n",
      "Data columns (total 16 columns):\n",
      " #   Column       Non-Null Count  Dtype  \n",
      "---  ------       --------------  -----  \n",
      " 0   City         21937 non-null  object \n",
      " 1   Date         21937 non-null  object \n",
      " 2   PM2.5        21302 non-null  float64\n",
      " 3   PM10         14962 non-null  float64\n",
      " 4   NO           21629 non-null  float64\n",
      " 5   NO2          21632 non-null  float64\n",
      " 6   NOx          20152 non-null  float64\n",
      " 7   NH3          15614 non-null  float64\n",
      " 8   CO           21521 non-null  float64\n",
      " 9   SO2          21383 non-null  float64\n",
      " 10  O3           21228 non-null  float64\n",
      " 11  Benzene      18667 non-null  float64\n",
      " 12  Toluene      16502 non-null  float64\n",
      " 13  Xylene       7729 non-null   float64\n",
      " 14  AQI          21937 non-null  float64\n",
      " 15  Air_quality  21937 non-null  object \n",
      "dtypes: float64(13), object(3)\n",
      "memory usage: 2.8+ MB\n"
     ]
    }
   ],
   "source": [
    "dataset.info()"
   ]
  },
  {
   "cell_type": "code",
   "execution_count": 7,
   "metadata": {},
   "outputs": [
    {
     "data": {
      "text/html": [
       "<div>\n",
       "<style scoped>\n",
       "    .dataframe tbody tr th:only-of-type {\n",
       "        vertical-align: middle;\n",
       "    }\n",
       "\n",
       "    .dataframe tbody tr th {\n",
       "        vertical-align: top;\n",
       "    }\n",
       "\n",
       "    .dataframe thead th {\n",
       "        text-align: right;\n",
       "    }\n",
       "</style>\n",
       "<table border=\"1\" class=\"dataframe\">\n",
       "  <thead>\n",
       "    <tr style=\"text-align: right;\">\n",
       "      <th></th>\n",
       "      <th>PM2.5</th>\n",
       "      <th>PM10</th>\n",
       "      <th>NO</th>\n",
       "      <th>NO2</th>\n",
       "      <th>NOx</th>\n",
       "      <th>NH3</th>\n",
       "      <th>CO</th>\n",
       "      <th>SO2</th>\n",
       "      <th>O3</th>\n",
       "      <th>Benzene</th>\n",
       "      <th>Toluene</th>\n",
       "      <th>Xylene</th>\n",
       "      <th>AQI</th>\n",
       "    </tr>\n",
       "  </thead>\n",
       "  <tbody>\n",
       "    <tr>\n",
       "      <th>count</th>\n",
       "      <td>21302.000000</td>\n",
       "      <td>14962.000000</td>\n",
       "      <td>21629.000000</td>\n",
       "      <td>21632.000000</td>\n",
       "      <td>20152.000000</td>\n",
       "      <td>15614.000000</td>\n",
       "      <td>21521.000000</td>\n",
       "      <td>21383.000000</td>\n",
       "      <td>21228.000000</td>\n",
       "      <td>18667.000000</td>\n",
       "      <td>16502.000000</td>\n",
       "      <td>7729.000000</td>\n",
       "      <td>21937.000000</td>\n",
       "    </tr>\n",
       "    <tr>\n",
       "      <th>mean</th>\n",
       "      <td>71.819536</td>\n",
       "      <td>125.867953</td>\n",
       "      <td>18.336627</td>\n",
       "      <td>29.537978</td>\n",
       "      <td>33.470678</td>\n",
       "      <td>25.751801</td>\n",
       "      <td>2.552130</td>\n",
       "      <td>14.801633</td>\n",
       "      <td>34.833688</td>\n",
       "      <td>3.465744</td>\n",
       "      <td>9.910826</td>\n",
       "      <td>3.741817</td>\n",
       "      <td>175.840908</td>\n",
       "    </tr>\n",
       "    <tr>\n",
       "      <th>std</th>\n",
       "      <td>65.402215</td>\n",
       "      <td>93.019867</td>\n",
       "      <td>22.987785</td>\n",
       "      <td>25.341563</td>\n",
       "      <td>31.934069</td>\n",
       "      <td>27.323008</td>\n",
       "      <td>7.508587</td>\n",
       "      <td>18.342644</td>\n",
       "      <td>21.432535</td>\n",
       "      <td>16.922770</td>\n",
       "      <td>22.126794</td>\n",
       "      <td>7.134129</td>\n",
       "      <td>146.143064</td>\n",
       "    </tr>\n",
       "    <tr>\n",
       "      <th>min</th>\n",
       "      <td>0.040000</td>\n",
       "      <td>0.030000</td>\n",
       "      <td>0.030000</td>\n",
       "      <td>0.010000</td>\n",
       "      <td>0.000000</td>\n",
       "      <td>0.010000</td>\n",
       "      <td>0.000000</td>\n",
       "      <td>0.010000</td>\n",
       "      <td>0.100000</td>\n",
       "      <td>0.000000</td>\n",
       "      <td>0.000000</td>\n",
       "      <td>0.000000</td>\n",
       "      <td>13.000000</td>\n",
       "    </tr>\n",
       "    <tr>\n",
       "      <th>25%</th>\n",
       "      <td>31.670000</td>\n",
       "      <td>61.692500</td>\n",
       "      <td>5.950000</td>\n",
       "      <td>12.100000</td>\n",
       "      <td>13.147500</td>\n",
       "      <td>9.630000</td>\n",
       "      <td>0.610000</td>\n",
       "      <td>5.610000</td>\n",
       "      <td>19.437500</td>\n",
       "      <td>0.230000</td>\n",
       "      <td>1.060000</td>\n",
       "      <td>0.300000</td>\n",
       "      <td>85.000000</td>\n",
       "    </tr>\n",
       "    <tr>\n",
       "      <th>50%</th>\n",
       "      <td>52.430000</td>\n",
       "      <td>101.555000</td>\n",
       "      <td>10.170000</td>\n",
       "      <td>22.360000</td>\n",
       "      <td>24.310000</td>\n",
       "      <td>18.420000</td>\n",
       "      <td>0.970000</td>\n",
       "      <td>9.170000</td>\n",
       "      <td>31.330000</td>\n",
       "      <td>1.180000</td>\n",
       "      <td>3.370000</td>\n",
       "      <td>1.270000</td>\n",
       "      <td>124.000000</td>\n",
       "    </tr>\n",
       "    <tr>\n",
       "      <th>75%</th>\n",
       "      <td>85.987500</td>\n",
       "      <td>158.837500</td>\n",
       "      <td>20.910000</td>\n",
       "      <td>38.702500</td>\n",
       "      <td>42.090000</td>\n",
       "      <td>33.130000</td>\n",
       "      <td>1.560000</td>\n",
       "      <td>15.500000</td>\n",
       "      <td>45.862500</td>\n",
       "      <td>3.100000</td>\n",
       "      <td>10.047500</td>\n",
       "      <td>4.350000</td>\n",
       "      <td>226.000000</td>\n",
       "    </tr>\n",
       "    <tr>\n",
       "      <th>max</th>\n",
       "      <td>914.940000</td>\n",
       "      <td>917.080000</td>\n",
       "      <td>287.140000</td>\n",
       "      <td>362.210000</td>\n",
       "      <td>293.100000</td>\n",
       "      <td>352.890000</td>\n",
       "      <td>175.810000</td>\n",
       "      <td>186.080000</td>\n",
       "      <td>257.730000</td>\n",
       "      <td>455.030000</td>\n",
       "      <td>454.850000</td>\n",
       "      <td>170.370000</td>\n",
       "      <td>2049.000000</td>\n",
       "    </tr>\n",
       "  </tbody>\n",
       "</table>\n",
       "</div>"
      ],
      "text/plain": [
       "              PM2.5          PM10            NO           NO2           NOx  \\\n",
       "count  21302.000000  14962.000000  21629.000000  21632.000000  20152.000000   \n",
       "mean      71.819536    125.867953     18.336627     29.537978     33.470678   \n",
       "std       65.402215     93.019867     22.987785     25.341563     31.934069   \n",
       "min        0.040000      0.030000      0.030000      0.010000      0.000000   \n",
       "25%       31.670000     61.692500      5.950000     12.100000     13.147500   \n",
       "50%       52.430000    101.555000     10.170000     22.360000     24.310000   \n",
       "75%       85.987500    158.837500     20.910000     38.702500     42.090000   \n",
       "max      914.940000    917.080000    287.140000    362.210000    293.100000   \n",
       "\n",
       "                NH3            CO           SO2            O3       Benzene  \\\n",
       "count  15614.000000  21521.000000  21383.000000  21228.000000  18667.000000   \n",
       "mean      25.751801      2.552130     14.801633     34.833688      3.465744   \n",
       "std       27.323008      7.508587     18.342644     21.432535     16.922770   \n",
       "min        0.010000      0.000000      0.010000      0.100000      0.000000   \n",
       "25%        9.630000      0.610000      5.610000     19.437500      0.230000   \n",
       "50%       18.420000      0.970000      9.170000     31.330000      1.180000   \n",
       "75%       33.130000      1.560000     15.500000     45.862500      3.100000   \n",
       "max      352.890000    175.810000    186.080000    257.730000    455.030000   \n",
       "\n",
       "            Toluene       Xylene           AQI  \n",
       "count  16502.000000  7729.000000  21937.000000  \n",
       "mean       9.910826     3.741817    175.840908  \n",
       "std       22.126794     7.134129    146.143064  \n",
       "min        0.000000     0.000000     13.000000  \n",
       "25%        1.060000     0.300000     85.000000  \n",
       "50%        3.370000     1.270000    124.000000  \n",
       "75%       10.047500     4.350000    226.000000  \n",
       "max      454.850000   170.370000   2049.000000  "
      ]
     },
     "execution_count": 7,
     "metadata": {},
     "output_type": "execute_result"
    }
   ],
   "source": [
    "# the describe method gives a quick overview of basic metrics of the dataset\n",
    "dataset.describe()"
   ]
  },
  {
   "cell_type": "code",
   "execution_count": 8,
   "metadata": {},
   "outputs": [
    {
     "name": "stdout",
     "output_type": "stream",
     "text": [
      "AxesSubplot(0.125,0.125;0.775x0.755)\n"
     ]
    },
    {
     "data": {
      "image/png": "[encoded data removed]",
      "text/plain": [
       "<Figure size 432x288 with 1 Axes>"
      ]
     },
     "metadata": {
      "needs_background": "light"
     },
     "output_type": "display_data"
    }
   ],
   "source": [
    "print(dataset.boxplot())"
   ]
  },
  {
   "cell_type": "code",
   "execution_count": 9,
   "metadata": {},
   "outputs": [],
   "source": [
    "x_train, x_test, y_train, y_test = train_test_split(x, y, test_size = 0.3, random_state = 0)"
   ]
  },
  {
   "cell_type": "code",
   "execution_count": 10,
   "metadata": {},
   "outputs": [
    {
     "data": {
      "image/png": "[encoded data removed]",
      "text/plain": [
       "<Figure size 432x288 with 1 Axes>"
      ]
     },
     "metadata": {
      "needs_background": "light"
     },
     "output_type": "display_data"
    }
   ],
   "source": [
    "ax = sns.countplot(y)"
   ]
  },
  {
   "cell_type": "code",
   "execution_count": 11,
   "metadata": {},
   "outputs": [
    {
     "data": {
      "image/png": "[encoded data removed]",
      "text/plain": [
       "<Figure size 432x288 with 1 Axes>"
      ]
     },
     "metadata": {
      "needs_background": "light"
     },
     "output_type": "display_data"
    }
   ],
   "source": [
    "#Before OverSampling\n",
    "ax = sns.countplot(y_train)"
   ]
  },
  {
   "cell_type": "code",
   "execution_count": 12,
   "metadata": {},
   "outputs": [
    {
     "name": "stdout",
     "output_type": "stream",
     "text": [
      "Classes and number of values in trainset Counter({1: 5450, 3: 4808, 2: 1867, 5: 1618, 4: 951, 0: 661})\n",
      "Classes and number of values in trainset after SMOTE: Counter({3: 5450, 1: 5450, 2: 5450, 5: 5450, 4: 5450, 0: 5450})\n"
     ]
    }
   ],
   "source": [
    "print('Classes and number of values in trainset',Counter(y_train))\n",
    "from imblearn.over_sampling import SMOTE\n",
    "oversample = SMOTE()\n",
    "x_train, y_train = oversample.fit_resample(x_train,y_train)\n",
    "print('Classes and number of values in trainset after SMOTE:',Counter(y_train))\n",
    "med=np.median(x_train,axis=0)"
   ]
  },
  {
   "cell_type": "code",
   "execution_count": 13,
   "metadata": {},
   "outputs": [
    {
     "data": {
      "text/plain": [
       "<matplotlib.axes._subplots.AxesSubplot at 0x7f58029dced0>"
      ]
     },
     "execution_count": 13,
     "metadata": {},
     "output_type": "execute_result"
    },
    {
     "data": {
      "image/png": "[encoded data removed]",
      "text/plain": [
       "<Figure size 432x288 with 1 Axes>"
      ]
     },
     "metadata": {
      "needs_background": "light"
     },
     "output_type": "display_data"
    }
   ],
   "source": [
    "#After Oversampling\n",
    "sns.countplot(y_train)"
   ]
  },
  {
   "cell_type": "code",
   "execution_count": 14,
   "metadata": {},
   "outputs": [],
   "source": [
    "classlabels=['Good','Moderate','Poor','Satisfactory','Severe','Very Poor']\n",
    "import itertools\n",
    "def plot_confusion_matrix(cm,title, classes=classlabels,\n",
    "                          cmap=plt.cm.Blues):\n",
    "\n",
    "    plt.figure(figsize=(5,4.8))\n",
    "    plt.imshow(cm, interpolation='nearest', cmap=cmap)\n",
    "    plt.title(title)\n",
    "    plt.colorbar()\n",
    "    tick_marks = np.arange(len(classes))\n",
    "    plt.xticks(tick_marks, classes, rotation=45)\n",
    "    plt.yticks(tick_marks, classes)\n",
    "\n",
    "#     print(cm)\n",
    "\n",
    "    thresh = cm.max() / 2\n",
    "    for i, j in itertools.product(range(cm.shape[0]), range(cm.shape[1])):\n",
    "        plt.text(j, i, \"{:,}\".format(cm[i, j]),\n",
    "                     horizontalalignment=\"center\",\n",
    "                     color=\"white\" if cm[i, j] > thresh else \"black\")\n",
    "\n",
    "    plt.tight_layout()\n",
    "    plt.ylabel('True label')\n",
    "    plt.xlabel('Predicted label')"
   ]
  },
  {
   "cell_type": "code",
   "execution_count": 15,
   "metadata": {},
   "outputs": [
    {
     "name": "stdout",
     "output_type": "stream",
     "text": [
      "The accuracy of this model is :  99.9240352476451\n",
      "Precision :  99.9240352476451\n",
      "Recall :  99.9240352476451\n",
      "F1 Score :  99.9240352476451\n"
     ]
    },
    {
     "data": {
      "image/png": "[encoded data removed]",
      "text/plain": [
       "<Figure size 360x345.6 with 2 Axes>"
      ]
     },
     "metadata": {
      "needs_background": "light"
     },
     "output_type": "display_data"
    }
   ],
   "source": [
    "from sklearn.ensemble import RandomForestClassifier\n",
    "clf=RandomForestClassifier(n_estimators=100,random_state = 0)\n",
    "clf.fit(x_train,y_train)\n",
    "y_pred=clf.predict(x_test)\n",
    "\n",
    "from sklearn.metrics import confusion_matrix\n",
    "cm = confusion_matrix(y_test, y_pred)\n",
    "plot_confusion_matrix(cm,title=\"Random Forest\")\n",
    "\n",
    "a = accuracy_score(y_test,y_pred)\n",
    "precision = precision_score(y_test,y_pred, average='micro')\n",
    "recall = recall_score(y_test,y_pred, average='micro')        \n",
    "f1 = f1_score(y_test,y_pred, average='micro')\n",
    "print(\"The accuracy of this model is : \", a*100)\n",
    "print(\"Precision : \",precision*100)\n",
    "print(\"Recall : \",recall*100)\n",
    "print(\"F1 Score : \",f1*100)"
   ]
  },
  {
   "cell_type": "code",
   "execution_count": 16,
   "metadata": {},
   "outputs": [
    {
     "name": "stdout",
     "output_type": "stream",
     "text": [
      "The accuracy of this model is :  100.0\n",
      "Precision :  100.0\n",
      "Recall :  100.0\n",
      "F1 Score :  100.0\n"
     ]
    },
    {
     "data": {
      "image/png": "[encoded data removed]",
      "text/plain": [
       "<Figure size 360x345.6 with 2 Axes>"
      ]
     },
     "metadata": {
      "needs_background": "light"
     },
     "output_type": "display_data"
    }
   ],
   "source": [
    "from sklearn.tree import DecisionTreeClassifier\n",
    "dt = DecisionTreeClassifier(random_state = 0)\n",
    "dt.fit(x_train,y_train)\n",
    "y_pred = dt.predict(x_test)\n",
    "\n",
    "from sklearn.metrics import confusion_matrix\n",
    "cm = confusion_matrix(y_test, y_pred)\n",
    "plot_confusion_matrix(cm,title=\"Decision Tree\")\n",
    "\n",
    "a = accuracy_score(y_test,y_pred)\n",
    "precision = precision_score(y_test,y_pred, average='micro')\n",
    "recall = recall_score(y_test,y_pred, average='micro')        \n",
    "f1 = f1_score(y_test,y_pred, average='micro')\n",
    "print(\"The accuracy of this model is : \", a*100)\n",
    "print(\"Precision : \",precision*100)\n",
    "print(\"Recall : \",recall*100)\n",
    "print(\"F1 Score : \",f1*100)"
   ]
  },
  {
   "cell_type": "code",
   "execution_count": 17,
   "metadata": {},
   "outputs": [
    {
     "name": "stdout",
     "output_type": "stream",
     "text": [
      "The accuracy of this model is :  100.0\n",
      "Precision :  100.0\n",
      "Recall :  100.0\n",
      "F1 Score :  100.0\n"
     ]
    },
    {
     "data": {
      "image/png": "[encoded data removed]",
      "text/plain": [
       "<Figure size 360x345.6 with 2 Axes>"
      ]
     },
     "metadata": {
      "needs_background": "light"
     },
     "output_type": "display_data"
    }
   ],
   "source": [
    "from xgboost import XGBClassifier\n",
    "cls = XGBClassifier()\n",
    "cls.fit(x_train,y_train)\n",
    "y_pred = cls.predict(x_test)\n",
    "\n",
    "from sklearn.metrics import confusion_matrix\n",
    "cm = confusion_matrix(y_test, y_pred)\n",
    "plot_confusion_matrix(cm,title=\"XGB\")\n",
    "\n",
    "a = accuracy_score(y_test,y_pred)\n",
    "precision = precision_score(y_test,y_pred, average='micro')\n",
    "recall = recall_score(y_test,y_pred, average='micro')        \n",
    "f1 = f1_score(y_test,y_pred, average='micro')\n",
    "print(\"The accuracy of this model is : \", a*100)\n",
    "print(\"Precision : \",precision*100)\n",
    "print(\"Recall : \",recall*100)\n",
    "print(\"F1 Score : \",f1*100)"
   ]
  }
 ],
 "metadata": {
  "kernelspec": {
   "display_name": "Python 3",
   "language": "python",
   "name": "python3"
  },
  "language_info": {
   "codemirror_mode": {
    "name": "ipython",
    "version": 3
   },
   "file_extension": ".py",
   "mimetype": "text/x-python",
   "name": "python",
   "nbconvert_exporter": "python",
   "pygments_lexer": "ipython3",
   "version": "3.7.6"
  }
 },
 "nbformat": 4,
 "nbformat_minor": 4
}
