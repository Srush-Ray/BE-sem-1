{
  "nbformat": 4,
  "nbformat_minor": 0,
  "metadata": {
    "kernelspec": {
      "display_name": "Python 3",
      "language": "python",
      "name": "python3"
    },
    "colab": {
      "name": "Maze A_.ipynb",
      "provenance": [],
      "collapsed_sections": []
    }
  },
  "cells": [
    {
      "cell_type": "code",
      "metadata": {
        "id": "FxpKVhcT16wD",
        "colab": {
          "base_uri": "https://localhost:8080/",
          "height": 276
        },
        "outputId": "094c803d-320a-4cf8-c000-eac1ef240511"
      },
      "source": [
        "import numpy as np\n",
        "import pandas as pd\n",
        "import seaborn as sns\n",
        "import matplotlib.pyplot as plt\n",
        "from collections import Counter\n",
        "from sklearn.metrics import confusion_matrix\n",
        "from sklearn.metrics import accuracy_score\n",
        "from sklearn.impute import SimpleImputer\n",
        "from sklearn.preprocessing import LabelEncoder\n",
        "from sklearn.model_selection import train_test_split\n",
        "from sklearn.ensemble import RandomForestClassifier\n",
        "from sklearn.tree import DecisionTreeClassifier\n",
        "from sklearn.svm import SVC\n",
        "from sklearn.metrics import precision_score\n",
        "from sklearn.metrics import recall_score\n",
        "from sklearn.metrics import f1_score\n",
        "from xgboost import XGBClassifier\n",
        "\n",
        "import matplotlib.pyplot as plt\n",
        "import seaborn as sns\n",
        "!pip install chart_studio\n",
        "import chart_studio.plotly as py\n",
        "import plotly.graph_objs as go\n",
        "from plotly.offline import iplot, init_notebook_mode\n",
        "import cufflinks\n",
        "cufflinks.go_offline()\n",
        "cufflinks.set_config_file(world_readable=True, theme='pearl')\n",
        "#"
      ],
      "execution_count": 1,
      "outputs": [
        {
          "output_type": "stream",
          "text": [
            "Collecting chart_studio\n",
            "\u001b[?25l  Downloading https://files.pythonhosted.org/packages/ca/ce/330794a6b6ca4b9182c38fc69dd2a9cbff60fd49421cb8648ee5fee352dc/chart_studio-1.1.0-py3-none-any.whl (64kB)\n",
            "\r\u001b[K     |█████                           | 10kB 13.3MB/s eta 0:00:01\r\u001b[K     |██████████▏                     | 20kB 18.2MB/s eta 0:00:01\r\u001b[K     |███████████████▎                | 30kB 22.4MB/s eta 0:00:01\r\u001b[K     |████████████████████▍           | 40kB 19.8MB/s eta 0:00:01\r\u001b[K     |█████████████████████████▍      | 51kB 16.7MB/s eta 0:00:01\r\u001b[K     |██████████████████████████████▌ | 61kB 17.7MB/s eta 0:00:01\r\u001b[K     |████████████████████████████████| 71kB 6.6MB/s \n",
            "\u001b[?25hRequirement already satisfied: six in /usr/local/lib/python3.6/dist-packages (from chart_studio) (1.15.0)\n",
            "Requirement already satisfied: plotly in /usr/local/lib/python3.6/dist-packages (from chart_studio) (4.4.1)\n",
            "Requirement already satisfied: retrying>=1.3.3 in /usr/local/lib/python3.6/dist-packages (from chart_studio) (1.3.3)\n",
            "Requirement already satisfied: requests in /usr/local/lib/python3.6/dist-packages (from chart_studio) (2.23.0)\n",
            "Requirement already satisfied: urllib3!=1.25.0,!=1.25.1,<1.26,>=1.21.1 in /usr/local/lib/python3.6/dist-packages (from requests->chart_studio) (1.24.3)\n",
            "Requirement already satisfied: chardet<4,>=3.0.2 in /usr/local/lib/python3.6/dist-packages (from requests->chart_studio) (3.0.4)\n",
            "Requirement already satisfied: idna<3,>=2.5 in /usr/local/lib/python3.6/dist-packages (from requests->chart_studio) (2.10)\n",
            "Requirement already satisfied: certifi>=2017.4.17 in /usr/local/lib/python3.6/dist-packages (from requests->chart_studio) (2020.11.8)\n",
            "Installing collected packages: chart-studio\n",
            "Successfully installed chart-studio-1.1.0\n"
          ],
          "name": "stdout"
        },
        {
          "output_type": "display_data",
          "data": {
            "text/html": [
              "        <script type=\"text/javascript\">\n",
              "        window.PlotlyConfig = {MathJaxConfig: 'local'};\n",
              "        if (window.MathJax) {MathJax.Hub.Config({SVG: {font: \"STIX-Web\"}});}\n",
              "        if (typeof require !== 'undefined') {\n",
              "        require.undef(\"plotly\");\n",
              "        requirejs.config({\n",
              "            paths: {\n",
              "                'plotly': ['https://cdn.plot.ly/plotly-latest.min']\n",
              "            }\n",
              "        });\n",
              "        require(['plotly'], function(Plotly) {\n",
              "            window._Plotly = Plotly;\n",
              "        });\n",
              "        }\n",
              "        </script>\n",
              "        "
            ]
          },
          "metadata": {
            "tags": []
          }
        }
      ]
    },
    {
      "cell_type": "code",
      "metadata": {
        "colab": {
          "base_uri": "https://localhost:8080/"
        },
        "id": "uotVSbtfmwMn",
        "outputId": "27e99ccc-12a2-4665-f3e5-e7f7ca0da383"
      },
      "source": [
        "dataset = pd.read_csv(\"City_day.csv\");\n",
        "\n",
        "dataset.dropna(axis=0, subset = [\"Air_quality\", \"Xylene\", \"AQI\", \"Toluene\",\n",
        "                                  \"Benzene\", \"O3\", \"SO2\", \"CO\", \"NH3\", \"NOx\", \n",
        "                                  \"NO2\", \"PM10\", \"PM2.5\", \"NO\"], how = 'all', inplace= True)\n",
        "dataset.dropna(subset = [\"Air_quality\"], inplace=True)\n",
        "      \n",
        "x = dataset.iloc[:, :-1].values\n",
        "y = dataset.iloc[:,15].values\n",
        "\n",
        "print(dataset.head())"
      ],
      "execution_count": 2,
      "outputs": [
        {
          "output_type": "stream",
          "text": [
            "         City       Date   PM2.5  PM10  ...  Toluene  Xylene    AQI  Air_quality\n",
            "28  Ahmedabad  1/29/2015   83.13   NaN  ...     0.00    3.14  209.0         Poor\n",
            "29  Ahmedabad  1/30/2015   79.84   NaN  ...     0.00    4.81  328.0    Very Poor\n",
            "30  Ahmedabad  1/31/2015   94.52   NaN  ...     0.01    7.67  514.0       Severe\n",
            "31  Ahmedabad   2/1/2015  135.99   NaN  ...     0.04   25.87  782.0       Severe\n",
            "32  Ahmedabad   2/2/2015  178.33   NaN  ...     0.06   35.61  914.0       Severe\n",
            "\n",
            "[5 rows x 16 columns]\n"
          ],
          "name": "stdout"
        }
      ]
    },
    {
      "cell_type": "code",
      "metadata": {
        "colab": {
          "base_uri": "https://localhost:8080/"
        },
        "id": "JfS_w8Iim0aR",
        "outputId": "cdd4dab1-afe5-4e6a-9500-7b555535f6e7"
      },
      "source": [
        "dataset.isnull().sum()"
      ],
      "execution_count": 3,
      "outputs": [
        {
          "output_type": "execute_result",
          "data": {
            "text/plain": [
              "City               0\n",
              "Date               0\n",
              "PM2.5            635\n",
              "PM10            6975\n",
              "NO               308\n",
              "NO2              305\n",
              "NOx             1785\n",
              "NH3             6323\n",
              "CO               416\n",
              "SO2              554\n",
              "O3               709\n",
              "Benzene         3270\n",
              "Toluene         5435\n",
              "Xylene         14208\n",
              "AQI                0\n",
              "Air_quality        0\n",
              "dtype: int64"
            ]
          },
          "metadata": {
            "tags": []
          },
          "execution_count": 3
        }
      ]
    },
    {
      "cell_type": "code",
      "metadata": {
        "id": "uV5tH-lG16wT"
      },
      "source": [
        "imputer = SimpleImputer(missing_values = np.nan, strategy = 'median')\n",
        "imputer = imputer.fit(x[:,2:15])\n",
        "x[:,2:15] = imputer.transform(x[:,2:15])"
      ],
      "execution_count": 4,
      "outputs": []
    },
    {
      "cell_type": "code",
      "metadata": {
        "id": "Ejgywj7rm_De"
      },
      "source": [
        "le_X_city = LabelEncoder()\n",
        "le_X_date = LabelEncoder()\n",
        "le_Y = LabelEncoder()\n",
        "y = le_Y.fit_transform(y)\n",
        "\n",
        "x[:,0] = le_X_city.fit_transform(x[:,0])\n",
        "x[:,1] = le_X_date.fit_transform(x[:,1])"
      ],
      "execution_count": 5,
      "outputs": []
    },
    {
      "cell_type": "code",
      "metadata": {
        "colab": {
          "base_uri": "https://localhost:8080/"
        },
        "id": "UbX4bcEXnBUP",
        "outputId": "07933b9e-3936-475b-e563-5573340cfcac"
      },
      "source": [
        "dataset.info()"
      ],
      "execution_count": 6,
      "outputs": [
        {
          "output_type": "stream",
          "text": [
            "<class 'pandas.core.frame.DataFrame'>\n",
            "Int64Index: 21937 entries, 28 to 26218\n",
            "Data columns (total 16 columns):\n",
            " #   Column       Non-Null Count  Dtype  \n",
            "---  ------       --------------  -----  \n",
            " 0   City         21937 non-null  object \n",
            " 1   Date         21937 non-null  object \n",
            " 2   PM2.5        21302 non-null  float64\n",
            " 3   PM10         14962 non-null  float64\n",
            " 4   NO           21629 non-null  float64\n",
            " 5   NO2          21632 non-null  float64\n",
            " 6   NOx          20152 non-null  float64\n",
            " 7   NH3          15614 non-null  float64\n",
            " 8   CO           21521 non-null  float64\n",
            " 9   SO2          21383 non-null  float64\n",
            " 10  O3           21228 non-null  float64\n",
            " 11  Benzene      18667 non-null  float64\n",
            " 12  Toluene      16502 non-null  float64\n",
            " 13  Xylene       7729 non-null   float64\n",
            " 14  AQI          21937 non-null  float64\n",
            " 15  Air_quality  21937 non-null  object \n",
            "dtypes: float64(13), object(3)\n",
            "memory usage: 2.8+ MB\n"
          ],
          "name": "stdout"
        }
      ]
    },
    {
      "cell_type": "code",
      "metadata": {
        "colab": {
          "base_uri": "https://localhost:8080/",
          "height": 304
        },
        "id": "7ePnaPGlnD0q",
        "outputId": "fc9cc7c9-dd5b-4825-e023-3ed0d9ab03c6"
      },
      "source": [
        "dataset.describe()"
      ],
      "execution_count": 8,
      "outputs": [
        {
          "output_type": "execute_result",
          "data": {
            "text/html": [
              "<div>\n",
              "<style scoped>\n",
              "    .dataframe tbody tr th:only-of-type {\n",
              "        vertical-align: middle;\n",
              "    }\n",
              "\n",
              "    .dataframe tbody tr th {\n",
              "        vertical-align: top;\n",
              "    }\n",
              "\n",
              "    .dataframe thead th {\n",
              "        text-align: right;\n",
              "    }\n",
              "</style>\n",
              "<table border=\"1\" class=\"dataframe\">\n",
              "  <thead>\n",
              "    <tr style=\"text-align: right;\">\n",
              "      <th></th>\n",
              "      <th>PM2.5</th>\n",
              "      <th>PM10</th>\n",
              "      <th>NO</th>\n",
              "      <th>NO2</th>\n",
              "      <th>NOx</th>\n",
              "      <th>NH3</th>\n",
              "      <th>CO</th>\n",
              "      <th>SO2</th>\n",
              "      <th>O3</th>\n",
              "      <th>Benzene</th>\n",
              "      <th>Toluene</th>\n",
              "      <th>Xylene</th>\n",
              "      <th>AQI</th>\n",
              "    </tr>\n",
              "  </thead>\n",
              "  <tbody>\n",
              "    <tr>\n",
              "      <th>count</th>\n",
              "      <td>21302.000000</td>\n",
              "      <td>14962.000000</td>\n",
              "      <td>21629.000000</td>\n",
              "      <td>21632.000000</td>\n",
              "      <td>20152.000000</td>\n",
              "      <td>15614.000000</td>\n",
              "      <td>21521.000000</td>\n",
              "      <td>21383.000000</td>\n",
              "      <td>21228.000000</td>\n",
              "      <td>18667.000000</td>\n",
              "      <td>16502.000000</td>\n",
              "      <td>7729.000000</td>\n",
              "      <td>21937.000000</td>\n",
              "    </tr>\n",
              "    <tr>\n",
              "      <th>mean</th>\n",
              "      <td>71.819536</td>\n",
              "      <td>125.867953</td>\n",
              "      <td>18.336627</td>\n",
              "      <td>29.537978</td>\n",
              "      <td>33.470678</td>\n",
              "      <td>25.751801</td>\n",
              "      <td>2.552130</td>\n",
              "      <td>14.801633</td>\n",
              "      <td>34.833688</td>\n",
              "      <td>3.465744</td>\n",
              "      <td>9.910826</td>\n",
              "      <td>3.741817</td>\n",
              "      <td>175.840908</td>\n",
              "    </tr>\n",
              "    <tr>\n",
              "      <th>std</th>\n",
              "      <td>65.402215</td>\n",
              "      <td>93.019867</td>\n",
              "      <td>22.987785</td>\n",
              "      <td>25.341563</td>\n",
              "      <td>31.934069</td>\n",
              "      <td>27.323008</td>\n",
              "      <td>7.508587</td>\n",
              "      <td>18.342644</td>\n",
              "      <td>21.432535</td>\n",
              "      <td>16.922770</td>\n",
              "      <td>22.126794</td>\n",
              "      <td>7.134129</td>\n",
              "      <td>146.143064</td>\n",
              "    </tr>\n",
              "    <tr>\n",
              "      <th>min</th>\n",
              "      <td>0.040000</td>\n",
              "      <td>0.030000</td>\n",
              "      <td>0.030000</td>\n",
              "      <td>0.010000</td>\n",
              "      <td>0.000000</td>\n",
              "      <td>0.010000</td>\n",
              "      <td>0.000000</td>\n",
              "      <td>0.010000</td>\n",
              "      <td>0.100000</td>\n",
              "      <td>0.000000</td>\n",
              "      <td>0.000000</td>\n",
              "      <td>0.000000</td>\n",
              "      <td>13.000000</td>\n",
              "    </tr>\n",
              "    <tr>\n",
              "      <th>25%</th>\n",
              "      <td>31.670000</td>\n",
              "      <td>61.692500</td>\n",
              "      <td>5.950000</td>\n",
              "      <td>12.100000</td>\n",
              "      <td>13.147500</td>\n",
              "      <td>9.630000</td>\n",
              "      <td>0.610000</td>\n",
              "      <td>5.610000</td>\n",
              "      <td>19.437500</td>\n",
              "      <td>0.230000</td>\n",
              "      <td>1.060000</td>\n",
              "      <td>0.300000</td>\n",
              "      <td>85.000000</td>\n",
              "    </tr>\n",
              "    <tr>\n",
              "      <th>50%</th>\n",
              "      <td>52.430000</td>\n",
              "      <td>101.555000</td>\n",
              "      <td>10.170000</td>\n",
              "      <td>22.360000</td>\n",
              "      <td>24.310000</td>\n",
              "      <td>18.420000</td>\n",
              "      <td>0.970000</td>\n",
              "      <td>9.170000</td>\n",
              "      <td>31.330000</td>\n",
              "      <td>1.180000</td>\n",
              "      <td>3.370000</td>\n",
              "      <td>1.270000</td>\n",
              "      <td>124.000000</td>\n",
              "    </tr>\n",
              "    <tr>\n",
              "      <th>75%</th>\n",
              "      <td>85.987500</td>\n",
              "      <td>158.837500</td>\n",
              "      <td>20.910000</td>\n",
              "      <td>38.702500</td>\n",
              "      <td>42.090000</td>\n",
              "      <td>33.130000</td>\n",
              "      <td>1.560000</td>\n",
              "      <td>15.500000</td>\n",
              "      <td>45.862500</td>\n",
              "      <td>3.100000</td>\n",
              "      <td>10.047500</td>\n",
              "      <td>4.350000</td>\n",
              "      <td>226.000000</td>\n",
              "    </tr>\n",
              "    <tr>\n",
              "      <th>max</th>\n",
              "      <td>914.940000</td>\n",
              "      <td>917.080000</td>\n",
              "      <td>287.140000</td>\n",
              "      <td>362.210000</td>\n",
              "      <td>293.100000</td>\n",
              "      <td>352.890000</td>\n",
              "      <td>175.810000</td>\n",
              "      <td>186.080000</td>\n",
              "      <td>257.730000</td>\n",
              "      <td>455.030000</td>\n",
              "      <td>454.850000</td>\n",
              "      <td>170.370000</td>\n",
              "      <td>2049.000000</td>\n",
              "    </tr>\n",
              "  </tbody>\n",
              "</table>\n",
              "</div>"
            ],
            "text/plain": [
              "              PM2.5          PM10  ...       Xylene           AQI\n",
              "count  21302.000000  14962.000000  ...  7729.000000  21937.000000\n",
              "mean      71.819536    125.867953  ...     3.741817    175.840908\n",
              "std       65.402215     93.019867  ...     7.134129    146.143064\n",
              "min        0.040000      0.030000  ...     0.000000     13.000000\n",
              "25%       31.670000     61.692500  ...     0.300000     85.000000\n",
              "50%       52.430000    101.555000  ...     1.270000    124.000000\n",
              "75%       85.987500    158.837500  ...     4.350000    226.000000\n",
              "max      914.940000    917.080000  ...   170.370000   2049.000000\n",
              "\n",
              "[8 rows x 13 columns]"
            ]
          },
          "metadata": {
            "tags": []
          },
          "execution_count": 8
        }
      ]
    },
    {
      "cell_type": "code",
      "metadata": {
        "colab": {
          "base_uri": "https://localhost:8080/",
          "height": 283
        },
        "id": "VQyNH0Z6nMdo",
        "outputId": "11a38f82-6859-4c86-a16d-086d405d9771"
      },
      "source": [
        "print(dataset.boxplot())"
      ],
      "execution_count": 9,
      "outputs": [
        {
          "output_type": "stream",
          "text": [
            "AxesSubplot(0.125,0.125;0.775x0.755)\n"
          ],
          "name": "stdout"
        },
        {
          "output_type": "display_data",
          "data": {
            "image/png": "[encoded data removed]",
            "text/plain": [
              "<Figure size 432x288 with 1 Axes>"
            ]
          },
          "metadata": {
            "tags": [],
            "needs_background": "light"
          }
        }
      ]
    },
    {
      "cell_type": "code",
      "metadata": {
        "id": "yM3aKGP2nPPT"
      },
      "source": [
        "x_train, x_test, y_train, y_test = train_test_split(x, y, test_size = 0.35, random_state = 0)"
      ],
      "execution_count": 10,
      "outputs": []
    },
    {
      "cell_type": "code",
      "metadata": {
        "colab": {
          "base_uri": "https://localhost:8080/",
          "height": 358
        },
        "id": "oKE1lhJGnUUO",
        "outputId": "db83aac8-df44-4b4e-fe6b-0c5bcadc4386"
      },
      "source": [
        "ax = sns.countplot(y)"
      ],
      "execution_count": 11,
      "outputs": [
        {
          "output_type": "stream",
          "text": [
            "/usr/local/lib/python3.6/dist-packages/seaborn/_decorators.py:43: FutureWarning:\n",
            "\n",
            "Pass the following variable as a keyword arg: x. From version 0.12, the only valid positional argument will be `data`, and passing other arguments without an explicit keyword will result in an error or misinterpretation.\n",
            "\n"
          ],
          "name": "stderr"
        },
        {
          "output_type": "display_data",
          "data": {
            "image/png": "[encoded data removed]",
            "text/plain": [
              "<Figure size 432x288 with 1 Axes>"
            ]
          },
          "metadata": {
            "tags": [],
            "needs_background": "light"
          }
        }
      ]
    },
    {
      "cell_type": "code",
      "metadata": {
        "colab": {
          "base_uri": "https://localhost:8080/",
          "height": 358
        },
        "id": "cp4EAoRanWq-",
        "outputId": "ec5d7476-c70a-4335-82e4-81656c77b540"
      },
      "source": [
        "ax = sns.countplot(y_train)"
      ],
      "execution_count": 12,
      "outputs": [
        {
          "output_type": "stream",
          "text": [
            "/usr/local/lib/python3.6/dist-packages/seaborn/_decorators.py:43: FutureWarning:\n",
            "\n",
            "Pass the following variable as a keyword arg: x. From version 0.12, the only valid positional argument will be `data`, and passing other arguments without an explicit keyword will result in an error or misinterpretation.\n",
            "\n"
          ],
          "name": "stderr"
        },
        {
          "output_type": "display_data",
          "data": {
            "image/png": "[encoded data removed]",
            "text/plain": [
              "<Figure size 432x288 with 1 Axes>"
            ]
          },
          "metadata": {
            "tags": [],
            "needs_background": "light"
          }
        }
      ]
    },
    {
      "cell_type": "code",
      "metadata": {
        "colab": {
          "base_uri": "https://localhost:8080/"
        },
        "id": "aD02DCXZxYxX",
        "outputId": "6b4f9a14-3645-4bd2-9ced-72a20f9bd845"
      },
      "source": [
        "print('Classes and number of values in trainset',Counter(y_train))\n",
        "from imblearn.over_sampling import SMOTE\n",
        "oversample = SMOTE()\n",
        "x_train, y_train = oversample.fit_resample(x_train,y_train)\n",
        "print('Classes and number of values in trainset after SMOTE:',Counter(y_train))\n",
        "med=np.median(x_train,axis=0)"
      ],
      "execution_count": 20,
      "outputs": [
        {
          "output_type": "stream",
          "text": [
            "Classes and number of values in trainset Counter({1: 5042, 3: 4478, 2: 1736, 5: 1503, 4: 883, 0: 617})\n"
          ],
          "name": "stdout"
        },
        {
          "output_type": "stream",
          "text": [
            "/usr/local/lib/python3.6/dist-packages/sklearn/externals/six.py:31: FutureWarning:\n",
            "\n",
            "The module is deprecated in version 0.21 and will be removed in version 0.23 since we've dropped support for Python 2.7. Please rely on the official version of six (https://pypi.org/project/six/).\n",
            "\n",
            "/usr/local/lib/python3.6/dist-packages/sklearn/utils/deprecation.py:144: FutureWarning:\n",
            "\n",
            "The sklearn.neighbors.base module is  deprecated in version 0.22 and will be removed in version 0.24. The corresponding classes / functions should instead be imported from sklearn.neighbors. Anything that cannot be imported from sklearn.neighbors is now part of the private API.\n",
            "\n",
            "/usr/local/lib/python3.6/dist-packages/sklearn/utils/deprecation.py:87: FutureWarning:\n",
            "\n",
            "Function safe_indexing is deprecated; safe_indexing is deprecated in version 0.22 and will be removed in version 0.24.\n",
            "\n",
            "/usr/local/lib/python3.6/dist-packages/sklearn/utils/deprecation.py:87: FutureWarning:\n",
            "\n",
            "Function safe_indexing is deprecated; safe_indexing is deprecated in version 0.22 and will be removed in version 0.24.\n",
            "\n",
            "/usr/local/lib/python3.6/dist-packages/sklearn/utils/deprecation.py:87: FutureWarning:\n",
            "\n",
            "Function safe_indexing is deprecated; safe_indexing is deprecated in version 0.22 and will be removed in version 0.24.\n",
            "\n"
          ],
          "name": "stderr"
        },
        {
          "output_type": "stream",
          "text": [
            "Classes and number of values in trainset after SMOTE: Counter({2: 5042, 1: 5042, 3: 5042, 4: 5042, 0: 5042, 5: 5042})\n"
          ],
          "name": "stdout"
        },
        {
          "output_type": "stream",
          "text": [
            "/usr/local/lib/python3.6/dist-packages/sklearn/utils/deprecation.py:87: FutureWarning:\n",
            "\n",
            "Function safe_indexing is deprecated; safe_indexing is deprecated in version 0.22 and will be removed in version 0.24.\n",
            "\n",
            "/usr/local/lib/python3.6/dist-packages/sklearn/utils/deprecation.py:87: FutureWarning:\n",
            "\n",
            "Function safe_indexing is deprecated; safe_indexing is deprecated in version 0.22 and will be removed in version 0.24.\n",
            "\n"
          ],
          "name": "stderr"
        }
      ]
    },
    {
      "cell_type": "code",
      "metadata": {
        "colab": {
          "base_uri": "https://localhost:8080/",
          "height": 377
        },
        "id": "8AQL9Vlwxg7h",
        "outputId": "792bb24d-66eb-4b4b-cc0d-31790350da65"
      },
      "source": [
        "sns.countplot(y_train)"
      ],
      "execution_count": 21,
      "outputs": [
        {
          "output_type": "stream",
          "text": [
            "/usr/local/lib/python3.6/dist-packages/seaborn/_decorators.py:43: FutureWarning:\n",
            "\n",
            "Pass the following variable as a keyword arg: x. From version 0.12, the only valid positional argument will be `data`, and passing other arguments without an explicit keyword will result in an error or misinterpretation.\n",
            "\n"
          ],
          "name": "stderr"
        },
        {
          "output_type": "execute_result",
          "data": {
            "text/plain": [
              "<matplotlib.axes._subplots.AxesSubplot at 0x7f652581b9e8>"
            ]
          },
          "metadata": {
            "tags": []
          },
          "execution_count": 21
        },
        {
          "output_type": "display_data",
          "data": {
            "image/png": "[encoded data removed]",
            "text/plain": [
              "<Figure size 432x288 with 1 Axes>"
            ]
          },
          "metadata": {
            "tags": [],
            "needs_background": "light"
          }
        }
      ]
    },
    {
      "cell_type": "code",
      "metadata": {
        "id": "q1ZSUQTsnbeA"
      },
      "source": [
        "classlabels=['Good','Moderate','Poor','Satisfactory','Severe','Very Poor']\n",
        "import itertools\n",
        "def plot_confusion_matrix(cm,title, classes=classlabels,\n",
        "                          cmap=plt.cm.Blues):\n",
        "\n",
        "    plt.figure(figsize=(5,4.8))\n",
        "    plt.imshow(cm, interpolation='nearest', cmap=cmap)\n",
        "    plt.title(title)\n",
        "    plt.colorbar()\n",
        "    tick_marks = np.arange(len(classes))\n",
        "    plt.xticks(tick_marks, classes, rotation=45)\n",
        "    plt.yticks(tick_marks, classes)\n",
        "\n",
        "#     print(cm)\n",
        "\n",
        "    thresh = cm.max() / 2\n",
        "    for i, j in itertools.product(range(cm.shape[0]), range(cm.shape[1])):\n",
        "        plt.text(j, i, \"{:,}\".format(cm[i, j]),\n",
        "                     horizontalalignment=\"center\",\n",
        "                     color=\"white\" if cm[i, j] > thresh else \"black\")\n",
        "\n",
        "    plt.tight_layout()\n",
        "    plt.ylabel('True label')\n",
        "    plt.xlabel('Predicted label')"
      ],
      "execution_count": 13,
      "outputs": []
    },
    {
      "cell_type": "code",
      "metadata": {
        "colab": {
          "base_uri": "https://localhost:8080/",
          "height": 426
        },
        "id": "dhiCwpbdnfF7",
        "outputId": "77868b70-8150-45f4-817c-dce38e292af2"
      },
      "source": [
        "from sklearn.ensemble import RandomForestClassifier\n",
        "clf=RandomForestClassifier(n_estimators=100,random_state = 0)\n",
        "clf.fit(x_train,y_train)\n",
        "y_pred=clf.predict(x_test)\n",
        "\n",
        "from sklearn.metrics import confusion_matrix\n",
        "cm = confusion_matrix(y_test, y_pred)\n",
        "plot_confusion_matrix(cm,title=\"Random Forest\")\n",
        "\n",
        "a = accuracy_score(y_test,y_pred)\n",
        "precision = precision_score(y_test,y_pred, average='micro')\n",
        "recall = recall_score(y_test,y_pred, average='micro')        \n",
        "f1 = f1_score(y_test,y_pred, average='micro')\n",
        "print(\"The accuracy of this model is : \", a*100)\n",
        "print(\"Precision : \",precision*100)\n",
        "print(\"Recall : \",recall*100)\n",
        "print(\"F1 Score : \",f1*100)"
      ],
      "execution_count": 14,
      "outputs": [
        {
          "output_type": "stream",
          "text": [
            "The accuracy of this model is :  99.92185464964834\n",
            "Precision :  99.92185464964834\n",
            "Recall :  99.92185464964834\n",
            "F1 Score :  99.92185464964834\n"
          ],
          "name": "stdout"
        },
        {
          "output_type": "display_data",
          "data": {
            "image/png": "[encoded data removed]",
            "text/plain": [
              "<Figure size 360x345.6 with 2 Axes>"
            ]
          },
          "metadata": {
            "tags": [],
            "needs_background": "light"
          }
        }
      ]
    },
    {
      "cell_type": "code",
      "metadata": {
        "colab": {
          "base_uri": "https://localhost:8080/",
          "height": 426
        },
        "id": "o3goFkE5niWt",
        "outputId": "89b81974-2b1f-4863-938b-792c51217708"
      },
      "source": [
        "from sklearn.tree import DecisionTreeClassifier\n",
        "dt = DecisionTreeClassifier(random_state = 0)\n",
        "dt.fit(x_train,y_train)\n",
        "y_pred = dt.predict(x_test)\n",
        "\n",
        "from sklearn.metrics import confusion_matrix\n",
        "cm = confusion_matrix(y_test, y_pred)\n",
        "plot_confusion_matrix(cm,title=\"Decision Tree\")\n",
        "\n",
        "a = accuracy_score(y_test,y_pred)\n",
        "precision = precision_score(y_test,y_pred, average='micro')\n",
        "recall = recall_score(y_test,y_pred, average='micro')        \n",
        "f1 = f1_score(y_test,y_pred, average='micro')\n",
        "print(\"The accuracy of this model is : \", a*100)\n",
        "print(\"Precision : \",precision*100)\n",
        "print(\"Recall : \",recall*100)\n",
        "print(\"F1 Score : \",f1*100)"
      ],
      "execution_count": 15,
      "outputs": [
        {
          "output_type": "stream",
          "text": [
            "The accuracy of this model is :  100.0\n",
            "Precision :  100.0\n",
            "Recall :  100.0\n",
            "F1 Score :  100.0\n"
          ],
          "name": "stdout"
        },
        {
          "output_type": "display_data",
          "data": {
            "image/png": "[encoded data removed]",
            "text/plain": [
              "<Figure size 360x345.6 with 2 Axes>"
            ]
          },
          "metadata": {
            "tags": [],
            "needs_background": "light"
          }
        }
      ]
    },
    {
      "cell_type": "code",
      "metadata": {
        "colab": {
          "base_uri": "https://localhost:8080/"
        },
        "id": "mGhKhHf0nlQC",
        "outputId": "c4e2aa53-579e-4d09-ba1d-2e597b4b5bb3"
      },
      "source": [
        "res = []\n",
        "city = le_X_city.fit_transform([\"Pune\"])\n",
        "date = le_X_date.fit_transform([\"12/12/2020\"])\n",
        "ls = [city[0] ,date[0], 83.13, 101.555, 6.93, 28.71, 33.72, 18.42, 6.93, 49.52, 59.76, 0.02, 0.0, 3.14, 209.0]\n",
        "lst = []\n",
        "lst.append(ls)\n",
        "temp = le_Y.inverse_transform(clf.predict(lst))\n",
        "temp = temp.tolist()\n",
        "res.append(temp[0])\n",
        "        \n",
        "temp = le_Y.inverse_transform(dt.predict(lst))\n",
        "temp = temp.tolist()\n",
        "res.append(temp[0])\n",
        "        \n",
        "print(\"Random Forest : \",res[0])\n",
        "print(\"Decision Tree : \",res[1])"
      ],
      "execution_count": 16,
      "outputs": [
        {
          "output_type": "stream",
          "text": [
            "Random Forest :  Poor\n",
            "Decision Tree :  Poor\n"
          ],
          "name": "stdout"
        }
      ]
    },
    {
      "cell_type": "code",
      "metadata": {
        "colab": {
          "base_uri": "https://localhost:8080/"
        },
        "id": "n9UfYrton_U1",
        "outputId": "a48ab58a-7d57-4a6d-e8f8-493f257de8bc"
      },
      "source": [
        "res = []\n",
        "city = le_X_city.fit_transform([\"Patna\"])\n",
        "date = le_X_date.fit_transform([\"12/12/2020\"])\n",
        "ls = [city[0] ,date[0],49.34,0,20.33,26.7,21.5,0,0.91,49.93,49.47,1.43,16.43,5.49,94]\n",
        "lst = []\n",
        "lst.append(ls)\n",
        "temp = le_Y.inverse_transform(clf.predict(lst))\n",
        "temp = temp.tolist()\n",
        "res.append(temp[0])\n",
        "        \n",
        "temp = le_Y.inverse_transform(dt.predict(lst))\n",
        "temp = temp.tolist()\n",
        "res.append(temp[0])\n",
        "        \n",
        "print(\"Random Forest : \",res[0])\n",
        "print(\"Decision Tree : \",res[1])"
      ],
      "execution_count": 19,
      "outputs": [
        {
          "output_type": "stream",
          "text": [
            "Random Forest :  Satisfactory\n",
            "Decision Tree :  Satisfactory\n"
          ],
          "name": "stdout"
        }
      ]
    },
    {
      "cell_type": "code",
      "metadata": {
        "id": "TSWTnRpan1qT"
      },
      "source": [
        ""
      ],
      "execution_count": null,
      "outputs": []
    }
  ]
}